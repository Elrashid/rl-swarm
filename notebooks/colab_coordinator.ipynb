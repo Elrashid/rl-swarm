{
 "cells": [
  {
   "cell_type": "markdown",
   "metadata": {
    "id": "header"
   },
   "source": "# RL Swarm Coordinator Node (Google Colab)\n\nThis notebook runs a **coordinator node** that:\n- Manages round/stage progression\n- Coordinates with worker nodes via Google Drive\n- Shares rollouts via Google Drive (no P2P networking)\n- Participates in training\n- No blockchain, Docker, or peer identity required\n\n**Before running:**\n1. Mount your Google Drive\n2. Set experiment configuration below\n3. Configure rollout sharing frequency and retention\n4. Run all cells in order\n\n**For worker nodes:** Use `colab_worker.ipynb` with the **same EXPERIMENT_NAME**"
  },
  {
   "cell_type": "markdown",
   "metadata": {
    "id": "config-header"
   },
   "source": [
    "## 1. Configuration"
   ]
  },
  {
   "cell_type": "code",
   "execution_count": null,
   "metadata": {
    "id": "config"
   },
   "outputs": [],
   "source": "# Experiment Configuration\nEXPERIMENT_NAME = 'qwen_0.6b_seed42'  # Must be same across all nodes\nNODE_ROLE = 'coordinator'  # DO NOT CHANGE\nNODE_ID = 'coordinator_0'  # Unique ID for this node\n\n# Model Configuration\nMODEL_NAME = 'Gensyn/Qwen2.5-0.5B-Instruct'  # HuggingFace model\nSEED = 42\n\n# Training Configuration\nMAX_ROUNDS = 1000\nNUM_GENERATIONS = 2\nNUM_TRANSPLANT_TREES = 2\n\n# Coordinator Configuration\nADVANCEMENT_STRATEGY = 'hybrid'  # 'time_based', 'completion_based', or 'hybrid'\nROUND_DURATION_MINUTES = 10\nMIN_SUBMISSION_PERCENT = 0.5\nMAX_ROUND_DURATION_MINUTES = 20\n\n# Rollout Sharing Configuration\nROLLOUT_PUBLISH_FREQUENCY = 'stage'  # 'generation', 'stage', or 'round'\nROLLOUT_CLEANUP_ENABLED = False      # Set to True to enable cleanup\nROLLOUT_KEEP_LAST_N_ROUNDS = 10      # Only used if cleanup enabled\nROLLOUT_ARCHIVE_OLD = False          # Archive instead of delete\n\n# Optional: HuggingFace Token (for pushing trained models)\nHUGGINGFACE_TOKEN = None  # Set to your token or keep None\n\n# Optional: Wandb Configuration\nWANDB_API_KEY = None  # Set to your Wandb API key or keep None\nWANDB_PROJECT = 'rl-swarm-colab'\n\nprint(f\"\u00e2\u0153\u201c Experiment: {EXPERIMENT_NAME}\")\nprint(f\"\u00e2\u0153\u201c Node Role: {NODE_ROLE}\")\nprint(f\"\u00e2\u0153\u201c Node ID: {NODE_ID}\")\nprint(f\"\u00e2\u0153\u201c Model: {MODEL_NAME}\")\nprint(f\"\u00e2\u0153\u201c Rollout frequency: {ROLLOUT_PUBLISH_FREQUENCY}\")\nprint(f\"\u00e2\u0153\u201c Cleanup enabled: {ROLLOUT_CLEANUP_ENABLED}\")"
  },
  {
   "cell_type": "markdown",
   "metadata": {
    "id": "mount-header"
   },
   "source": [
    "## 2. Mount Google Drive"
   ]
  },
  {
   "cell_type": "code",
   "execution_count": null,
   "metadata": {
    "id": "mount-drive"
   },
   "outputs": [],
   "source": [
    "from google.colab import drive\n",
    "import os\n",
    "\n",
    "# Mount Google Drive\n",
    "drive.mount('/content/drive')\n",
    "\n",
    "# Set base path\n",
    "GDRIVE_BASE_PATH = '/content/drive/MyDrive/rl-swarm'\n",
    "os.makedirs(GDRIVE_BASE_PATH, exist_ok=True)\n",
    "\n",
    "print(f\"\u00e2\u0153\u201c Google Drive mounted at: {GDRIVE_BASE_PATH}\")"
   ]
  },
  {
   "cell_type": "markdown",
   "metadata": {
    "id": "system-header"
   },
   "source": [
    "## 3. System Setup & Dependencies"
   ]
  },
  {
   "cell_type": "code",
   "execution_count": null,
   "metadata": {
    "id": "check-gpu"
   },
   "outputs": [],
   "source": [
    "# Check GPU availability\n",
    "import torch\n",
    "\n",
    "if torch.cuda.is_available():\n",
    "    print(f\"\u00e2\u0153\u201c GPU available: {torch.cuda.get_device_name(0)}\")\n",
    "    print(f\"  Memory: {torch.cuda.get_device_properties(0).total_memory / 1e9:.2f} GB\")\n",
    "else:\n",
    "    print(\"\u00e2\u0691\u00a0 No GPU detected - training will be slow\")\n",
    "    print(\"  Consider: Runtime > Change runtime type > GPU\")"
   ]
  },
  {
   "cell_type": "code",
   "execution_count": null,
   "metadata": {
    "id": "install-deps"
   },
   "outputs": [],
   "source": [
    "# Clone repository\n",
    "import os\n",
    "if not os.path.exists('/content/rl-swarm'):\n",
    "    !git clone https://github.com/Elrashid/rl-swarm.git /content/rl-swarm\n",
    "    print(\"\u00e2\u0153\u201c Repository cloned\")\n",
    "else:\n",
    "    print(\"\u00e2\u0153\u201c Repository already exists\")\n",
    "\n",
    "%cd /content/rl-swarm\n",
    "\n",
    "# Install dependencies\n",
    "print(\"Installing dependencies (this may take 3-5 minutes)...\")\n",
    "!pip install -q -r requirements.txt\n",
    "!pip install -q gensyn-genrl==0.1.9\n",
    "\n",
    "print(\"\u00e2\u0153\u201c Dependencies installed\")"
   ]
  },
  {
   "cell_type": "code",
   "execution_count": null,
   "metadata": {
    "id": "setup-wandb"
   },
   "outputs": [],
   "source": [
    "if WANDB_API_KEY:\n",
    "    import wandb\n",
    "    wandb.login(key=WANDB_API_KEY)\n",
    "    print(\"\u00e2\u0153\u201c Wandb configured\")\n",
    "else:\n",
    "    print(\"\u00e2\u201e\u00b9 Wandb disabled (WANDB_API_KEY not set)\")"
   ]
  },
  {
   "cell_type": "markdown",
   "metadata": {
    "id": "env-header"
   },
   "source": [
    "## 6. Set Environment Variables"
   ]
  },
  {
   "cell_type": "code",
   "execution_count": null,
   "metadata": {
    "id": "set-env"
   },
   "outputs": [],
   "source": [
    "import os\n",
    "\n",
    "# Set environment variables\n",
    "os.environ['GDRIVE_PATH'] = GDRIVE_BASE_PATH\n",
    "os.environ['EXPERIMENT_NAME'] = EXPERIMENT_NAME\n",
    "os.environ['NODE_ROLE'] = NODE_ROLE\n",
    "os.environ['NODE_ID'] = NODE_ID\n",
    "os.environ['MODEL_NAME'] = MODEL_NAME\n",
    "os.environ['SEED'] = str(SEED)\n",
    "\n",
    "if HUGGINGFACE_TOKEN:\n",
    "    os.environ['HUGGINGFACE_ACCESS_TOKEN'] = HUGGINGFACE_TOKEN\n",
    "\n",
    "if WANDB_API_KEY:\n",
    "    os.environ['WANDB_API_KEY'] = WANDB_API_KEY\n",
    "    os.environ['WANDB_PROJECT'] = WANDB_PROJECT\n",
    "\n",
    "print(\"\u00e2\u0153\u201c Environment variables set\")"
   ]
  },
  {
   "cell_type": "markdown",
   "metadata": {
    "id": "init-header"
   },
   "source": [
    "## 7. Initialize Experiment"
   ]
  },
  {
   "cell_type": "code",
   "execution_count": null,
   "metadata": {
    "id": "init-experiment"
   },
   "outputs": [],
   "source": "import os\nimport uuid\n\n# Set environment variables\nos.environ['GDRIVE_PATH'] = GDRIVE_BASE_PATH\nos.environ['EXPERIMENT_NAME'] = EXPERIMENT_NAME\nos.environ['NODE_ROLE'] = NODE_ROLE\nos.environ['NODE_ID'] = NODE_ID or f\"coord_{uuid.uuid4().hex[:8]}\"\nos.environ['MODEL_NAME'] = MODEL_NAME\nos.environ['SEED'] = str(SEED)\n\n# Rollout configuration\nos.environ['ROLLOUT_PUBLISH_FREQUENCY'] = ROLLOUT_PUBLISH_FREQUENCY\nos.environ['ROLLOUT_CLEANUP_ENABLED'] = str(ROLLOUT_CLEANUP_ENABLED)\nos.environ['ROLLOUT_KEEP_LAST_N_ROUNDS'] = str(ROLLOUT_KEEP_LAST_N_ROUNDS)\nos.environ['ROLLOUT_ARCHIVE_OLD'] = str(ROLLOUT_ARCHIVE_OLD)\n\nif HUGGINGFACE_TOKEN:\n    os.environ['HUGGINGFACE_ACCESS_TOKEN'] = HUGGINGFACE_TOKEN\n\nif WANDB_API_KEY:\n    os.environ['WANDB_API_KEY'] = WANDB_API_KEY\n    os.environ['WANDB_PROJECT'] = WANDB_PROJECT\n\nprint(\"\u00e2\u0153\u201c Environment variables set\")\nprint(f\"  Node ID: {os.environ['NODE_ID']}\")\nprint(f\"  Rollout frequency: {ROLLOUT_PUBLISH_FREQUENCY}\")"
  },
  {
   "cell_type": "markdown",
   "metadata": {
    "id": "train-header"
   },
   "source": [
    "## 8. Start Training & Coordination\n",
    "\n",
    "**This cell will run until interrupted or max rounds reached.**\n",
    "\n",
    "The coordinator will:\n",
    "- Advance rounds based on configured strategy\n",
    "- Coordinate with worker nodes via Google Drive\n",
    "- Train the model and log metrics\n",
    "- Save checkpoints every 10 rounds\n",
    "\n",
    "**Monitor logs below. Press the stop button to gracefully shutdown.**"
   ]
  },
  {
   "cell_type": "code",
   "execution_count": null,
   "metadata": {
    "id": "start-training"
   },
   "outputs": [],
   "source": "from rgym_exp.utils.experiment_manager import init_experiment\n\n# Initialize experiment structure in Google Drive\nconfig_overrides = {\n    'training.max_round': MAX_ROUNDS,\n    'training.num_generations': NUM_GENERATIONS,\n    'training.num_transplant_trees': NUM_TRANSPLANT_TREES,\n    'training.seed': SEED,\n    'coordinator_manager.advancement_strategy': ADVANCEMENT_STRATEGY,\n    'coordinator_manager.round_duration_minutes': ROUND_DURATION_MINUTES,\n    'coordinator_manager.min_submission_percent': MIN_SUBMISSION_PERCENT,\n    'coordinator_manager.max_round_duration_minutes': MAX_ROUND_DURATION_MINUTES,\n    'communication.rollout_publish_frequency': ROLLOUT_PUBLISH_FREQUENCY,\n    'communication.rollout_retention.cleanup_enabled': ROLLOUT_CLEANUP_ENABLED,\n    'communication.rollout_retention.keep_last_n_rounds': ROLLOUT_KEEP_LAST_N_ROUNDS,\n    'communication.rollout_retention.archive_old_rollouts': ROLLOUT_ARCHIVE_OLD,\n}\n\ninit_experiment(\n    gdrive_base_path=GDRIVE_BASE_PATH,\n    experiment_name=EXPERIMENT_NAME,\n    config_overrides=config_overrides\n)\n\nprint(f\"\u00e2\u0153\u201c Experiment initialized: {EXPERIMENT_NAME}\")\nprint(f\"  Path: {GDRIVE_BASE_PATH}/experiments/{EXPERIMENT_NAME}\")\nprint(f\"  Rollout frequency: {ROLLOUT_PUBLISH_FREQUENCY}\")\nprint(f\"  Cleanup enabled: {ROLLOUT_CLEANUP_ENABLED}\")"
  },
  {
   "cell_type": "code",
   "execution_count": null,
   "metadata": {},
   "outputs": [],
   "source": [
    "import sys\n",
    "import subprocess\n",
    "\n",
    "%cd /content/rl-swarm\n",
    "\n",
    "print(\"=\"*60)\n",
    "print(f\"Starting Coordinator Node: {NODE_ID}\")\n",
    "print(f\"Experiment: {EXPERIMENT_NAME}\")\n",
    "print(f\"Model: {MODEL_NAME}\")\n",
    "print(\"=\"*60)\n",
    "print()\n",
    "\n",
    "# Run training\n",
    "try:\n",
    "    subprocess.run([\n",
    "        sys.executable, '-m', 'rgym_exp.runner.swarm_launcher',\n",
    "        '--config-name', 'colab-gdrive'\n",
    "    ])\n",
    "    \n",
    "except KeyboardInterrupt:\n",
    "    print(\"\n\" + \"=\"*60)\n",
    "    print(\"Training interrupted by user\")\n",
    "    print(\"=\"*60)\n",
    "except Exception as e:\n",
    "    print(f\"\n\u274c Error: {e}\")\n",
    "    import traceback\n",
    "    traceback.print_exc()"
   ]
  },
  {
   "cell_type": "code",
   "execution_count": null,
   "metadata": {},
   "outputs": [],
   "source": [
    "import sys\n",
    "import subprocess\n",
    "\n",
    "%cd /content/rl-swarm\n",
    "\n",
    "print(\"=\"*60)\n",
    "print(f\"Starting Coordinator Node: {NODE_ID}\")\n",
    "print(f\"Experiment: {EXPERIMENT_NAME}\")\n",
    "print(f\"Model: {MODEL_NAME}\")\n",
    "print(\"=\"*60)\n",
    "print()\n",
    "\n",
    "# Run training\n",
    "try:\n",
    "    subprocess.run([\n",
    "        sys.executable, '-m', 'rgym_exp.runner.swarm_launcher',\n",
    "        '--config-name', 'colab-gdrive'\n",
    "    ])\n",
    "    \n",
    "except KeyboardInterrupt:\n",
    "    print(\"\n\" + \"=\"*60)\n",
    "    print(\"Training interrupted by user\")\n",
    "    print(\"=\"*60)\n",
    "except Exception as e:\n",
    "    print(f\"\n\u274c Error: {e}\")\n",
    "    import traceback\n",
    "    traceback.print_exc()"
   ]
  },
  {
   "cell_type": "markdown",
   "metadata": {
    "id": "monitor-header"
   },
   "source": [
    "## 9. Monitor Progress (Optional)\n",
    "\n",
    "Run this cell in a separate window to monitor progress while training continues."
   ]
  },
  {
   "cell_type": "code",
   "execution_count": null,
   "metadata": {
    "id": "monitor-progress"
   },
   "outputs": [],
   "source": [
    "from rgym_exp.utils.experiment_manager import get_experiment_status, get_experiment_metrics\n",
    "import pandas as pd\n",
    "\n",
    "# Get current status\n",
    "status = get_experiment_status(GDRIVE_BASE_PATH, EXPERIMENT_NAME)\n",
    "print(f\"Current Round: {status['current_round']}\")\n",
    "print(f\"Current Stage: {status['current_stage']}\")\n",
    "print(f\"Active Peers: {status['active_peers']}\")\n",
    "print(f\"Total Submissions: {status['total_metric_entries']}\")\n",
    "print()\n",
    "\n",
    "# Load and display recent metrics\n",
    "try:\n",
    "    df = get_experiment_metrics(GDRIVE_BASE_PATH, EXPERIMENT_NAME)\n",
    "    if not df.empty:\n",
    "        print(\"Recent metrics (last 10 rounds):\")\n",
    "        recent = df[df['node_id'] == NODE_ID].tail(10)\n",
    "        print(recent[['round', 'stage', 'my_reward']].to_string(index=False))\n",
    "    else:\n",
    "        print(\"No metrics available yet\")\n",
    "except Exception as e:\n",
    "    print(f\"Could not load metrics: {e}\")"
   ]
  },
  {
   "cell_type": "markdown",
   "metadata": {
    "id": "resume-header"
   },
   "source": [
    "## 10. Resume Training (If Disconnected)\n",
    "\n",
    "If your Colab session disconnects:\n",
    "1. Re-run all cells above (keep same EXPERIMENT_NAME and NODE_ID)\n",
    "2. The system will automatically resume from the last checkpoint\n",
    "3. Training continues from the last saved round"
   ]
  }
 ],
 "metadata": {
  "accelerator": "GPU",
  "colab": {
   "gpuType": "T4",
   "name": "RL Swarm Coordinator",
   "provenance": []
  },
  "kernelspec": {
   "display_name": "Python 3",
   "name": "python3"
  },
  "language_info": {
   "name": "python"
  }
 },
 "nbformat": 4,
 "nbformat_minor": 0
}