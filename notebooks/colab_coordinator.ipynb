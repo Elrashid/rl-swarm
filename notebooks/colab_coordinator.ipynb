{
 "cells": [
  {
   "cell_type": "markdown",
   "metadata": {
    "id": "header"
   },
   "source": [
    "# RL Swarm Coordinator Node (Google Colab)\n",
    "\n",
    "This notebook runs a **coordinator node** that:\n",
    "- Manages round/stage progression\n",
    "- Coordinates with worker nodes via Google Drive\n",
    "- Participates in training\n",
    "- No blockchain or Docker required\n",
    "\n",
    "**Before running:**\n",
    "1. Mount your Google Drive\n",
    "2. Set experiment configuration below\n",
    "3. Run all cells in order\n",
    "\n",
    "**For worker nodes:** Use `colab_worker.ipynb` with the **same EXPERIMENT_NAME**"
   ]
  },
  {
   "cell_type": "markdown",
   "metadata": {
    "id": "config-header"
   },
   "source": [
    "## 1. Configuration"
   ]
  },
  {
   "cell_type": "code",
   "execution_count": null,
   "metadata": {
    "id": "config"
   },
   "outputs": [],
   "source": [
    "# Experiment Configuration\n",
    "EXPERIMENT_NAME = 'qwen_0.6b_seed42'  # Must be same across all nodes\n",
    "NODE_ROLE = 'coordinator'  # DO NOT CHANGE\n",
    "NODE_ID = 'coordinator_0'  # Unique ID for this node\n",
    "\n",
    "# Model Configuration\n",
    "MODEL_NAME = 'Gensyn/Qwen2.5-0.5B-Instruct'  # HuggingFace model\n",
    "SEED = 42\n",
    "\n",
    "# Training Configuration\n",
    "MAX_ROUNDS = 1000\n",
    "NUM_GENERATIONS = 2\n",
    "NUM_TRANSPLANT_TREES = 2\n",
    "\n",
    "# Coordinator Configuration\n",
    "ADVANCEMENT_STRATEGY = 'hybrid'  # 'time_based', 'completion_based', or 'hybrid'\n",
    "ROUND_DURATION_MINUTES = 10\n",
    "MIN_SUBMISSION_PERCENT = 0.5\n",
    "MAX_ROUND_DURATION_MINUTES = 20\n",
    "\n",
    "# Optional: HuggingFace Token (for pushing trained models)\n",
    "HUGGINGFACE_TOKEN = None  # Set to your token or keep None\n",
    "\n",
    "# Optional: Wandb Configuration\n",
    "WANDB_API_KEY = None  # Set to your Wandb API key or keep None\n",
    "WANDB_PROJECT = 'rl-swarm-colab'\n",
    "\n",
    "print(f\"✓ Experiment: {EXPERIMENT_NAME}\")\n",
    "print(f\"✓ Node Role: {NODE_ROLE}\")\n",
    "print(f\"✓ Node ID: {NODE_ID}\")\n",
    "print(f\"✓ Model: {MODEL_NAME}\")"
   ]
  },
  {
   "cell_type": "markdown",
   "metadata": {
    "id": "mount-header"
   },
   "source": [
    "## 2. Mount Google Drive"
   ]
  },
  {
   "cell_type": "code",
   "execution_count": null,
   "metadata": {
    "id": "mount-drive"
   },
   "outputs": [],
   "source": [
    "from google.colab import drive\n",
    "import os\n",
    "\n",
    "# Mount Google Drive\n",
    "drive.mount('/content/drive')\n",
    "\n",
    "# Set base path\n",
    "GDRIVE_BASE_PATH = '/content/drive/MyDrive/rl-swarm'\n",
    "os.makedirs(GDRIVE_BASE_PATH, exist_ok=True)\n",
    "\n",
    "print(f\"✓ Google Drive mounted at: {GDRIVE_BASE_PATH}\")"
   ]
  },
  {
   "cell_type": "markdown",
   "metadata": {
    "id": "system-header"
   },
   "source": [
    "## 3. System Setup & Dependencies"
   ]
  },
  {
   "cell_type": "code",
   "execution_count": null,
   "metadata": {
    "id": "check-gpu"
   },
   "outputs": [],
   "source": [
    "# Check GPU availability\n",
    "import torch\n",
    "\n",
    "if torch.cuda.is_available():\n",
    "    print(f\"✓ GPU available: {torch.cuda.get_device_name(0)}\")\n",
    "    print(f\"  Memory: {torch.cuda.get_device_properties(0).total_memory / 1e9:.2f} GB\")\n",
    "else:\n",
    "    print(\"⚠ No GPU detected - training will be slow\")\n",
    "    print(\"  Consider: Runtime > Change runtime type > GPU\")"
   ]
  },
  {
   "cell_type": "code",
   "execution_count": null,
   "metadata": {
    "id": "install-deps"
   },
   "outputs": [],
   "source": [
    "# Clone repository\n",
    "import os\n",
    "if not os.path.exists('/content/rl-swarm'):\n",
    "    !git clone https://github.com/gensyn-ai/rl-swarm.git /content/rl-swarm\n",
    "    print(\"✓ Repository cloned\")\n",
    "else:\n",
    "    print(\"✓ Repository already exists\")\n",
    "\n",
    "%cd /content/rl-swarm\n",
    "\n",
    "# Install dependencies\n",
    "print(\"Installing dependencies (this may take 3-5 minutes)...\")\n",
    "!pip install -q -r requirements.txt\n",
    "!pip install -q gensyn-genrl==0.1.9\n",
    "\n",
    "print(\"✓ Dependencies installed\")"
   ]
  },
  {
   "cell_type": "markdown",
   "metadata": {
    "id": "identity-header"
   },
   "source": [
    "## 4. Generate Peer Identity"
   ]
  },
  {
   "cell_type": "code",
   "execution_count": null,
   "metadata": {
    "id": "generate-identity"
   },
   "outputs": [],
   "source": [
    "import os\n",
    "from cryptography.hazmat.primitives.asymmetric import rsa\n",
    "from cryptography.hazmat.primitives import serialization\n",
    "from cryptography.hazmat.backends import default_backend\n",
    "\n",
    "# Identity file stored in Google Drive (persists across sessions)\n",
    "IDENTITY_PATH = os.path.join(GDRIVE_BASE_PATH, f'identity_{NODE_ID}.pem')\n",
    "\n",
    "if not os.path.exists(IDENTITY_PATH):\n",
    "    print(\"Generating new peer identity...\")\n",
    "    key = rsa.generate_private_key(\n",
    "        public_exponent=65537,\n",
    "        key_size=2048,\n",
    "        backend=default_backend()\n",
    "    )\n",
    "    pem = key.private_bytes(\n",
    "        encoding=serialization.Encoding.PEM,\n",
    "        format=serialization.PrivateFormat.TraditionalOpenSSL,\n",
    "        encryption_algorithm=serialization.NoEncryption()\n",
    "    )\n",
    "    with open(IDENTITY_PATH, 'wb') as f:\n",
    "        f.write(pem)\n",
    "    print(f\"✓ New identity created: {IDENTITY_PATH}\")\n",
    "else:\n",
    "    print(f\"✓ Using existing identity: {IDENTITY_PATH}\")\n",
    "\n",
    "# Copy to working directory\n",
    "!cp \"{IDENTITY_PATH}\" /content/rl-swarm/swarm.pem\n",
    "print(\"✓ Identity ready\")"
   ]
  },
  {
   "cell_type": "markdown",
   "metadata": {
    "id": "wandb-header"
   },
   "source": [
    "## 5. Setup Wandb (Optional)"
   ]
  },
  {
   "cell_type": "code",
   "execution_count": null,
   "metadata": {
    "id": "setup-wandb"
   },
   "outputs": [],
   "source": [
    "if WANDB_API_KEY:\n",
    "    import wandb\n",
    "    wandb.login(key=WANDB_API_KEY)\n",
    "    print(\"✓ Wandb configured\")\n",
    "else:\n",
    "    print(\"ℹ Wandb disabled (WANDB_API_KEY not set)\")"
   ]
  },
  {
   "cell_type": "markdown",
   "metadata": {
    "id": "env-header"
   },
   "source": [
    "## 6. Set Environment Variables"
   ]
  },
  {
   "cell_type": "code",
   "execution_count": null,
   "metadata": {
    "id": "set-env"
   },
   "outputs": [],
   "source": [
    "import os\n",
    "\n",
    "# Set environment variables\n",
    "os.environ['GDRIVE_PATH'] = GDRIVE_BASE_PATH\n",
    "os.environ['EXPERIMENT_NAME'] = EXPERIMENT_NAME\n",
    "os.environ['NODE_ROLE'] = NODE_ROLE\n",
    "os.environ['NODE_ID'] = NODE_ID\n",
    "os.environ['MODEL_NAME'] = MODEL_NAME\n",
    "os.environ['SEED'] = str(SEED)\n",
    "os.environ['IDENTITY_PATH'] = '/content/rl-swarm/swarm.pem'\n",
    "\n",
    "if HUGGINGFACE_TOKEN:\n",
    "    os.environ['HUGGINGFACE_ACCESS_TOKEN'] = HUGGINGFACE_TOKEN\n",
    "\n",
    "if WANDB_API_KEY:\n",
    "    os.environ['WANDB_API_KEY'] = WANDB_API_KEY\n",
    "    os.environ['WANDB_PROJECT'] = WANDB_PROJECT\n",
    "\n",
    "print(\"✓ Environment variables set\")"
   ]
  },
  {
   "cell_type": "markdown",
   "metadata": {
    "id": "init-header"
   },
   "source": [
    "## 7. Initialize Experiment"
   ]
  },
  {
   "cell_type": "code",
   "execution_count": null,
   "metadata": {
    "id": "init-experiment"
   },
   "outputs": [],
   "source": [
    "from rgym_exp.utils.experiment_manager import init_experiment\n",
    "\n",
    "# Initialize experiment structure in Google Drive\n",
    "config_overrides = {\n",
    "    'training.max_round': MAX_ROUNDS,\n",
    "    'training.num_generations': NUM_GENERATIONS,\n",
    "    'training.num_transplant_trees': NUM_TRANSPLANT_TREES,\n",
    "    'training.seed': SEED,\n",
    "    'coordinator_manager.advancement_strategy': ADVANCEMENT_STRATEGY,\n",
    "    'coordinator_manager.round_duration_minutes': ROUND_DURATION_MINUTES,\n",
    "    'coordinator_manager.min_submission_percent': MIN_SUBMISSION_PERCENT,\n",
    "    'coordinator_manager.max_round_duration_minutes': MAX_ROUND_DURATION_MINUTES,\n",
    "}\n",
    "\n",
    "init_experiment(\n",
    "    base_path=GDRIVE_BASE_PATH,\n",
    "    experiment_name=EXPERIMENT_NAME,\n",
    "    config_overrides=config_overrides\n",
    ")\n",
    "\n",
    "print(f\"✓ Experiment initialized: {EXPERIMENT_NAME}\")\n",
    "print(f\"  Path: {GDRIVE_BASE_PATH}/experiments/{EXPERIMENT_NAME}\")"
   ]
  },
  {
   "cell_type": "markdown",
   "metadata": {
    "id": "train-header"
   },
   "source": [
    "## 8. Start Training & Coordination\n",
    "\n",
    "**This cell will run until interrupted or max rounds reached.**\n",
    "\n",
    "The coordinator will:\n",
    "- Advance rounds based on configured strategy\n",
    "- Coordinate with worker nodes via Google Drive\n",
    "- Train the model and log metrics\n",
    "- Save checkpoints every 10 rounds\n",
    "\n",
    "**Monitor logs below. Press the stop button to gracefully shutdown.**"
   ]
  },
  {
   "cell_type": "code",
   "execution_count": null,
   "metadata": {
    "id": "start-training"
   },
   "outputs": [],
   "source": [
    "import sys\n",
    "import subprocess\n",
    "import threading\n",
    "import time\n",
    "from IPython.display import display, HTML\n",
    "\n",
    "%cd /content/rl-swarm\n",
    "\n",
    "print(\"=\"*60)\n",
    "print(f\"Starting Coordinator Node: {NODE_ID}\")\n",
    "print(f\"Experiment: {EXPERIMENT_NAME}\")\n",
    "print(f\"Model: {MODEL_NAME}\")\n",
    "print(\"=\"*60)\n",
    "print()\n",
    "\n",
    "# Run training with coordinator manager\n",
    "try:\n",
    "    # Start coordinator manager in background thread\n",
    "    def run_coordinator_manager():\n",
    "        from rgym_exp.runner.coordinator_node import run_coordinator_manager\n",
    "        from rgym_exp.src.gdrive_coordinator import GDriveSwarmCoordinator\n",
    "        \n",
    "        coordinator = GDriveSwarmCoordinator(\n",
    "            gdrive_path=f\"{GDRIVE_BASE_PATH}/experiments/{EXPERIMENT_NAME}\",\n",
    "            node_role='coordinator'\n",
    "        )\n",
    "        \n",
    "        config = {\n",
    "            'advancement_strategy': ADVANCEMENT_STRATEGY,\n",
    "            'round_duration_minutes': ROUND_DURATION_MINUTES,\n",
    "            'min_submission_percent': MIN_SUBMISSION_PERCENT,\n",
    "            'max_round_duration_minutes': MAX_ROUND_DURATION_MINUTES,\n",
    "        }\n",
    "        \n",
    "        run_coordinator_manager(coordinator, config)\n",
    "    \n",
    "    coord_thread = threading.Thread(target=run_coordinator_manager, daemon=True)\n",
    "    coord_thread.start()\n",
    "    print(\"✓ Coordinator manager started\")\n",
    "    time.sleep(2)\n",
    "    \n",
    "    # Start training\n",
    "    print(\"✓ Starting training...\")\n",
    "    print()\n",
    "    \n",
    "    subprocess.run([\n",
    "        sys.executable, '-m', 'rgym_exp.runner.swarm_launcher',\n",
    "        '--config-name', 'colab-gdrive'\n",
    "    ])\n",
    "    \n",
    "except KeyboardInterrupt:\n",
    "    print(\"\\n\" + \"=\"*60)\n",
    "    print(\"Training interrupted by user\")\n",
    "    print(\"=\"*60)\n",
    "except Exception as e:\n",
    "    print(f\"\\n❌ Error: {e}\")\n",
    "    import traceback\n",
    "    traceback.print_exc()"
   ]
  },
  {
   "cell_type": "markdown",
   "metadata": {
    "id": "monitor-header"
   },
   "source": [
    "## 9. Monitor Progress (Optional)\n",
    "\n",
    "Run this cell in a separate window to monitor progress while training continues."
   ]
  },
  {
   "cell_type": "code",
   "execution_count": null,
   "metadata": {
    "id": "monitor-progress"
   },
   "outputs": [],
   "source": [
    "from rgym_exp.utils.experiment_manager import get_experiment_status, get_experiment_metrics\n",
    "import pandas as pd\n",
    "\n",
    "# Get current status\n",
    "status = get_experiment_status(GDRIVE_BASE_PATH, EXPERIMENT_NAME)\n",
    "print(f\"Current Round: {status['current_round']}\")\n",
    "print(f\"Current Stage: {status['current_stage']}\")\n",
    "print(f\"Active Peers: {status['num_active_peers']}\")\n",
    "print(f\"Total Submissions: {status['total_submissions']}\")\n",
    "print()\n",
    "\n",
    "# Load and display recent metrics\n",
    "try:\n",
    "    df = get_experiment_metrics(GDRIVE_BASE_PATH, EXPERIMENT_NAME)\n",
    "    if not df.empty:\n",
    "        print(\"Recent metrics (last 10 rounds):\")\n",
    "        recent = df[df['node_id'] == NODE_ID].tail(10)\n",
    "        print(recent[['round', 'stage', 'my_reward']].to_string(index=False))\n",
    "    else:\n",
    "        print(\"No metrics available yet\")\n",
    "except Exception as e:\n",
    "    print(f\"Could not load metrics: {e}\")"
   ]
  },
  {
   "cell_type": "markdown",
   "metadata": {
    "id": "resume-header"
   },
   "source": [
    "## 10. Resume Training (If Disconnected)\n",
    "\n",
    "If your Colab session disconnects:\n",
    "1. Re-run all cells above (keep same EXPERIMENT_NAME and NODE_ID)\n",
    "2. The system will automatically resume from the last checkpoint\n",
    "3. Training continues from the last saved round"
   ]
  }
 ],
 "metadata": {
  "accelerator": "GPU",
  "colab": {
   "name": "RL Swarm Coordinator",
   "provenance": [],
   "gpuType": "T4"
  },
  "kernelspec": {
   "display_name": "Python 3",
   "name": "python3"
  },
  "language_info": {
   "name": "python"
  }
 },
 "nbformat": 4,
 "nbformat_minor": 0
}
