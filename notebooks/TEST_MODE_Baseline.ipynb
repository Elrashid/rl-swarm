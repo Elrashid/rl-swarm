{
 "cells": [
  {
   "cell_type": "markdown",
   "metadata": {},
   "source": "# 🧪 TEST MODE - Baseline Configuration (1-2 minutes)\n\nThis notebook runs a **QUICK TEST** of the **Baseline SAPO configuration** (100% local rollouts, no sharing).\n\n**Configuration:**\n- **I=4** (local rollouts per round)\n- **J=0** (external rollouts per round - NO SHARING)\n- **G=4** (completions per question - REDUCED for speed)\n- **Model**: GPT-2 (124M params)\n- **Hardware**: 5 nodes (1 coordinator + 4 workers) on 1× A100 80GB\n- **Rounds**: 3 only (for quick testing)\n\n**What This Tests:**\n- ✅ Coordinator round advancement\n- ✅ Worker training and reward submission\n- ✅ Logging infrastructure\n- ✅ GDrive state management\n- ⊘ Rollout sharing (not tested - use Config1/2/3 for that)\n\n**Other Test Configurations:**\n- **Config1**: `TEST_MODE_Config1.ipynb` - I=3, J=1 (75%/25% split, tests rollout sharing)\n- **Config2**: `TEST_MODE_Config2.ipynb` - I=2, J=2 (50%/50% split, balanced sharing)\n- **Config3**: `TEST_MODE_Config3.ipynb` - I=1, J=3 (25%/75% split, heavy sharing)\n\n**Expected Results:**\n- Completes in 1-2 minutes\n- 3 rounds executed\n- All 4 workers submit rewards\n- State persisted to GDrive\n- No rollouts published (J=0)\n\n**Memory Usage:** ~33 GB peak VRAM (4 training nodes)\n\n**Note:** This is a TEST run with reduced parameters. Not for scientific experiments."
  },
  {
   "cell_type": "markdown",
   "metadata": {},
   "source": [
    "## 1. Configuration\n",
    "\n",
    "**This notebook is pre-configured for TEST MODE.**\n",
    "\n",
    "Just run all cells - no changes needed!"
   ]
  },
  {
   "cell_type": "code",
   "execution_count": null,
   "metadata": {},
   "outputs": [],
   "source": "# TEST MODE - Baseline Configuration\n# Quick validation run with minimal parameters\n\n# ============================================\n# TEST MODE SETTINGS\n# ============================================\nEXPERIMENT_NAME = 'test_baseline_4loc0ext'\nNUM_TRAIN_SAMPLES = 4        # I: Local rollouts per round\nNUM_TRANSPLANT_TREES = 0     # J: External rollouts (NONE - baseline config)\nNUM_GENERATIONS = 4          # G: Completions per question (REDUCED for speed)\nMAX_ROUNDS = 3               # Only 3 rounds for quick test\n\n# ============================================\n# FIXED SETTINGS\n# ============================================\nNUM_NODES = 5                # Run 5 nodes (1 coordinator + 4 workers)\nMODEL_NAME = 'gpt2'          # GPT-2 (124M params, fits memory)\nSEED = 42                    # For reproducibility\n\n# Rollout Sharing Configuration\nROLLOUT_PUBLISH_FREQUENCY = 'stage'  # When to share rollouts\nROLLOUT_CLEANUP_ENABLED = True       # Enable cleanup to save space\nROLLOUT_KEEP_LAST_N_ROUNDS = 20      # Keep recent rollouts only\nROLLOUT_ARCHIVE_OLD = False          # Don't archive (saves space)\n\n# Optional: HuggingFace Token\nHUGGINGFACE_TOKEN = None  # Set to your token or keep None\n\nprint(\"=\"*60)\nprint(f\"TEST MODE - Baseline Configuration (100% local)\")\nprint(\"=\"*60)\nprint(f\"✓ Nodes: {NUM_NODES} (1 coordinator + 4 workers on single A100 80GB)\")\nprint(f\"✓ Model: {MODEL_NAME}\")\nprint(f\"✓ Config: I={NUM_TRAIN_SAMPLES}, J={NUM_TRANSPLANT_TREES}, G={NUM_GENERATIONS}\")\nprint(f\"✓ Experiment: {EXPERIMENT_NAME}\")\nprint(f\"✓ Max Rounds: {MAX_ROUNDS} (TEST MODE)\")\nprint()\nprint(f\"Expected VRAM: ~33 GB (80 GB available)\")\nprint(f\"Expected Time: ~2 minutes\")\nprint()\nprint(\"🧪 TEST MODE - Baseline Configuration\")\nprint(\"   Tests: Coordinator, workers, submissions, logs\")\nprint(\"   No rollout sharing (J=0)\")"
  },
  {
   "cell_type": "markdown",
   "metadata": {},
   "source": [
    "## 2. Mount Google Drive"
   ]
  },
  {
   "cell_type": "code",
   "execution_count": null,
   "metadata": {},
   "outputs": [],
   "source": [
    "from google.colab import drive\n",
    "import os\n",
    "\n",
    "# Mount Google Drive\n",
    "drive.mount('/content/drive')\n",
    "\n",
    "# Set base path (MUST BE SAME ACROSS ALL NODES)\n",
    "GDRIVE_BASE_PATH = '/content/drive/MyDrive/rl-swarm'\n",
    "os.makedirs(GDRIVE_BASE_PATH, exist_ok=True)\n",
    "\n",
    "print(f\"✓ Google Drive mounted at: {GDRIVE_BASE_PATH}\")"
   ]
  },
  {
   "cell_type": "markdown",
   "metadata": {},
   "source": [
    "## 3. System Setup & GPU Verification"
   ]
  },
  {
   "cell_type": "code",
   "execution_count": null,
   "metadata": {},
   "outputs": [],
   "source": [
    "import torch\n",
    "\n",
    "print(\"=\"*60)\n",
    "print(\"GPU Verification\")\n",
    "print(\"=\"*60)\n",
    "\n",
    "if torch.cuda.is_available():\n",
    "    gpu_name = torch.cuda.get_device_name(0)\n",
    "    total_memory = torch.cuda.get_device_properties(0).total_memory / 1e9\n",
    "    \n",
    "    print(f\"✓ GPU: {gpu_name}\")\n",
    "    print(f\"✓ Total VRAM: {total_memory:.1f} GB\")\n",
    "    print()\n",
    "    \n",
    "    # Check if we have enough memory\n",
    "    required_memory = NUM_NODES * 6.5  # 6.5 GB per GPT-2 node\n",
    "    print(f\"Memory Requirements:\")\n",
    "    print(f\"  Required: {required_memory:.1f} GB ({NUM_NODES} nodes × 6.5 GB)\")\n",
    "    print(f\"  Available: {total_memory:.1f} GB\")\n",
    "    print(f\"  Margin: {total_memory - required_memory:.1f} GB\")\n",
    "    print()\n",
    "    \n",
    "    if total_memory < required_memory:\n",
    "        print(\"⚠️  WARNING: Insufficient VRAM!\")\n",
    "        print(f\"   Need at least {required_memory:.0f} GB, but have {total_memory:.1f} GB\")\n",
    "        print(f\"   Consider reducing NUM_NODES to {int(total_memory / 6.5)}\")\n",
    "        raise RuntimeError(\"Insufficient GPU memory\")\n",
    "    elif total_memory < 75:\n",
    "        print(\"⚠️  WARNING: Tight fit! Expected A100 80GB.\")\n",
    "        print(f\"   Have {total_memory:.1f} GB. May still work, but monitor memory closely.\")\n",
    "    else:\n",
    "        print(f\"✅ Sufficient VRAM for {NUM_NODES} GPT-2 nodes\")\n",
    "else:\n",
    "    raise RuntimeError(\"No GPU detected! Select A100 GPU runtime: Runtime > Change runtime type > A100 GPU\")"
   ]
  },
  {
   "cell_type": "markdown",
   "metadata": {},
   "source": [
    "## 4. Clone Repository & Install Dependencies"
   ]
  },
  {
   "cell_type": "code",
   "execution_count": null,
   "metadata": {},
   "outputs": [],
   "source": [
    "%cd /content\n",
    "\n",
    "# Remove existing directory if it exists\n",
    "if os.path.exists('/content/rl-swarm'):\n",
    "    print(\"Removing existing repository...\")\n",
    "    !rm -rf /content/rl-swarm\n",
    "\n",
    "# Clone fresh copy\n",
    "print(\"Cloning repository...\")\n",
    "!git clone https://github.com/Elrashid/rl-swarm.git /content/rl-swarm\n",
    "\n",
    "# Change to repo directory\n",
    "%cd /content/rl-swarm\n",
    "\n",
    "# Verify clone worked\n",
    "if not os.path.exists('requirements.txt'):\n",
    "    raise FileNotFoundError(\"Repository clone failed - requirements.txt not found\")\n",
    "\n",
    "print(\"✓ Repository cloned successfully\")\n",
    "print()\n",
    "\n",
    "# Install dependencies\n",
    "print(\"Installing dependencies (this may take 3-5 minutes)...\")\n",
    "print(\"Note: Warnings about protobuf versions can be ignored\")\n",
    "print()\n",
    "\n",
    "# Install main dependencies (without -q to show errors)\n",
    "!pip install -r requirements.txt\n",
    "\n",
    "# Install GenRL explicitly\n",
    "!pip install gensyn-genrl==0.1.9\n",
    "\n",
    "# Fix protobuf version explicitly to avoid conflicts\n",
    "!pip install 'protobuf>=4.25.0,<5.0'\n",
    "\n",
    "# Verify reasoning-gym was installed\n",
    "try:\n",
    "    import reasoning_gym\n",
    "    print()\n",
    "    print(\"✓ Dependencies installed successfully\")\n",
    "    print(\"✓ reasoning-gym verified\")\n",
    "except ImportError as e:\n",
    "    print()\n",
    "    print(\"❌ ERROR: reasoning-gym failed to install!\")\n",
    "    print(\"   Please report this issue with the error above\")\n",
    "    raise"
   ]
  },
  {
   "cell_type": "markdown",
   "metadata": {},
   "source": [
    "## 5. Initialize Experiment\n",
    "\n",
    "**Note:** Only the coordinator (node_0) creates the experiment structure. Workers will join it."
   ]
  },
  {
   "cell_type": "code",
   "execution_count": null,
   "metadata": {},
   "outputs": [],
   "source": [
    "from rgym_exp.utils.experiment_manager import init_experiment\n",
    "\n",
    "# Initialize experiment structure in Google Drive (coordinator creates it)\n",
    "config_overrides = {\n",
    "    'training.max_round': MAX_ROUNDS,\n",
    "    'training.num_generations': NUM_GENERATIONS,\n",
    "    'training.num_transplant_trees': NUM_TRANSPLANT_TREES,\n",
    "    'training.num_train_samples': NUM_TRAIN_SAMPLES,\n",
    "    'training.seed': SEED,\n",
    "    'TEST_MODE': 'True',\n",
    "}\n",
    "\n",
    "init_experiment(\n",
    "    gdrive_base_path=GDRIVE_BASE_PATH,\n",
    "    experiment_name=EXPERIMENT_NAME,\n",
    "    config_overrides=config_overrides\n",
    ")\n",
    "\n",
    "print(f\"✓ Experiment initialized: {EXPERIMENT_NAME}\")\n",
    "print(f\"  Path: {GDRIVE_BASE_PATH}/experiments/{EXPERIMENT_NAME}\")\n",
    "print(f\"  Config: I={NUM_TRAIN_SAMPLES}, J={NUM_TRANSPLANT_TREES}, G={NUM_GENERATIONS}\")\n",
    "print(f\"  TEST_MODE: Enabled\")"
   ]
  },
  {
   "cell_type": "markdown",
   "metadata": {},
   "source": "## 6. Launch 5-Node Swarm (KEY CELL)\n\n**This cell:**\n1. Spawns 5 separate Python processes\n2. Each process runs `swarm_launcher.py` with unique NODE_ID\n3. All processes share GPU 0 (CUDA_VISIBLE_DEVICES=0)\n4. Coordinator (node_0) manages round progression\n5. Workers (node_1-4) poll state and train\n\n**Logs:** Each node writes to GDrive at `{GDRIVE_BASE_PATH}/experiments/{EXPERIMENT_NAME}/logs/node_<id>/`\n\n**Monitor:** Use next cell (Cell 7) to track progress in real-time\n\n**TEST MODE:** Only 3 rounds will be executed for quick validation (30s per round)"
  },
  {
   "cell_type": "code",
   "execution_count": null,
   "metadata": {},
   "outputs": [],
   "source": "import subprocess\nimport os\nimport time\nfrom datetime import datetime\n\nprint(\"=\"*60)\nprint(f\"Launching {NUM_NODES}-Node TEST MODE Swarm\")\nprint(\"=\"*60)\nprint(f\"Experiment: {EXPERIMENT_NAME}\")\nprint(f\"Model: {MODEL_NAME}\")\nprint(f\"Config: I={NUM_TRAIN_SAMPLES}, J={NUM_TRANSPLANT_TREES}, G={NUM_GENERATIONS}\")\nprint(f\"Hardware: All {NUM_NODES} nodes on single GPU (A100 80GB)\")\nprint(f\"TEST MODE: {MAX_ROUNDS} rounds only\")\nprint(\"=\"*60)\nprint()\n\nprocesses = []\nstart_time = time.time()  # For ETA calculation\n\nfor node_id in range(NUM_NODES):\n    # Environment variables for this node\n    env = os.environ.copy()\n    env['NODE_ID'] = f'node_{node_id}'\n    env['NODE_ROLE'] = 'coordinator' if node_id == 0 else 'worker'\n    env['MODEL_NAME'] = MODEL_NAME\n    env['NUM_TRAIN_SAMPLES'] = str(NUM_TRAIN_SAMPLES)\n    env['NUM_TRANSPLANT_TREES'] = str(NUM_TRANSPLANT_TREES)\n    env['NUM_GENERATIONS'] = str(NUM_GENERATIONS)\n    env['MAX_ROUNDS'] = str(MAX_ROUNDS)\n    env['EXPERIMENT_NAME'] = EXPERIMENT_NAME\n    env['GDRIVE_PATH'] = GDRIVE_BASE_PATH\n    env['CUDA_VISIBLE_DEVICES'] = '0'  # All nodes share GPU 0\n    env['SEED'] = str(SEED + node_id)  # Different seed per node (diversity)\n    env['ROLLOUT_PUBLISH_FREQUENCY'] = ROLLOUT_PUBLISH_FREQUENCY\n    env['ROLLOUT_CLEANUP_ENABLED'] = str(ROLLOUT_CLEANUP_ENABLED)\n    env['ROLLOUT_KEEP_LAST_N_ROUNDS'] = str(ROLLOUT_KEEP_LAST_N_ROUNDS)\n    env['ROLLOUT_ARCHIVE_OLD'] = str(ROLLOUT_ARCHIVE_OLD)\n    env['TEST_MODE'] = 'True'  # Enable test mode\n    env['COORDINATOR_ROUND_INTERVAL'] = '30'  # Faster round advancement for test mode\n    \n    if HUGGINGFACE_TOKEN:\n        env['HUGGINGFACE_ACCESS_TOKEN'] = HUGGINGFACE_TOKEN\n    \n    # Launch process (logs will be written to GDrive by swarm_launcher)\n    import sys\n    process = subprocess.Popen(\n        [sys.executable, '-m', 'rgym_exp.runner.swarm_launcher'],\n        env=env,\n        cwd='/content/rl-swarm'\n    )\n    processes.append(process)\n    \n    role = \"COORDINATOR\" if node_id == 0 else \"WORKER     \"\n    print(f\"✓ Started node_{node_id} ({role}) - PID: {process.pid:5d}\")\n    \n    # Stagger startup to avoid race conditions\n    time.sleep(10)\n\nprint()\nprint(f\"✅ All {NUM_NODES} nodes launched successfully!\")\nprint(f\"✓ TEST MODE: Will run for ~1-2 minutes ({MAX_ROUNDS} rounds)\")\nprint(f\"✓ Logs location: {GDRIVE_BASE_PATH}/experiments/{EXPERIMENT_NAME}/logs/node_*/\")\nprint()\nprint(\"⚠️  Keep this notebook open (browser tab active)\")\nprint()\nprint(\"Monitor progress in Cell 7 below...\")"
  },
  {
   "cell_type": "markdown",
   "metadata": {},
   "source": [
    "## 7. Monitor Training Progress\n",
    "\n",
    "**This cell:**\n",
    "- Shows real-time status of all 5 nodes\n",
    "- Displays GPU memory usage\n",
    "- Shows current round/stage progress\n",
    "- Updates every 30 seconds (faster for test mode)\n",
    "\n",
    "**To stop training:** Click \"Stop\" button or press Ctrl+C\n",
    "\n",
    "**Note:** You can re-run this cell anytime to check status"
   ]
  },
  {
   "cell_type": "markdown",
   "source": "## 7.5. Check Real-Time Progress (Optional)\n\n**You can run this anytime** to check training progress from GDrive:\n- Shows current round for each node\n- Displays elapsed time\n- Updates independently of notebook state\n\nThis is useful if your notebook disconnects - progress is always saved to GDrive!",
   "metadata": {}
  },
  {
   "cell_type": "code",
   "source": "# === Real-time Progress Viewer (Optional) ===\n# Run this cell anytime to check progress from GDrive\n\nimport sys\nsys.path.append('/content/rl-swarm')\n\nfrom rgym_exp.utils.progress_tracker import get_experiment_progress\n\nprogress = get_experiment_progress(GDRIVE_BASE_PATH, EXPERIMENT_NAME)\n\nprint(\"=\"*60)\nprint(\"📊 REAL-TIME PROGRESS\")\nprint(\"=\"*60)\nprint(f\"Experiment: {progress.get('experiment')}\")\nprint()\n\nfor node_id, node_data in progress.get('nodes', {}).items():\n    if 'error' in node_data:\n        print(f\"  {node_id}: {node_data['error']}\")\n    else:\n        print(f\"  {node_id}:\")\n        print(f\"    Event: {node_data.get('latest_event')}\")\n        print(f\"    Round: {node_data.get('latest_round')}\")\n        print(f\"    Elapsed: {node_data.get('elapsed_seconds', 0)/60:.1f}m\")\n        print()\n\nprint(\"=\"*60)\nprint(\"Note: Progress updates every round. Logs flush every 30s.\")",
   "metadata": {},
   "execution_count": null,
   "outputs": []
  },
  {
   "cell_type": "code",
   "execution_count": null,
   "metadata": {},
   "outputs": [],
   "source": "import time\nfrom IPython.display import clear_output\nimport pandas as pd\n\nprint(\"Starting training monitor (TEST MODE)...\")\nprint(\"Press 'Stop' button or Ctrl+C to interrupt\\n\")\n\nmonitor_start_time = time.time()\n\ntry:\n    while True:\n        clear_output(wait=True)\n        \n        # Check process status\n        running = sum(1 for p in processes if p.poll() is None)\n        completed = NUM_NODES - running\n        \n        current_time = datetime.now().strftime('%Y-%m-%d %H:%M:%S')\n        elapsed_minutes = (time.time() - start_time) / 60\n        \n        print(\"=\"*70)\n        print(f\" TEST MODE Monitor - {EXPERIMENT_NAME}\")\n        print(f\" Time: {current_time} | Elapsed: {elapsed_minutes:.1f}m\")\n        print(\"=\"*70)\n        print()\n        \n        # Node status\n        print(f\"Nodes:\")\n        print(f\"  Running:   {running}/{NUM_NODES}\")\n        print(f\"  Completed: {completed}/{NUM_NODES}\")\n        print()\n        \n        # GPU memory\n        if torch.cuda.is_available():\n            allocated = torch.cuda.memory_allocated(0) / 1e9\n            reserved = torch.cuda.memory_reserved(0) / 1e9\n            total = torch.cuda.get_device_properties(0).total_memory / 1e9\n            \n            utilization = (reserved / total) * 100\n            \n            print(f\"GPU Memory ({torch.cuda.get_device_name(0)}):\")\n            print(f\"  Allocated: {allocated:5.1f} GB\")\n            print(f\"  Reserved:  {reserved:5.1f} GB / {total:.1f} GB ({utilization:.1f}%)\")\n            print(f\"  Free:      {total - reserved:5.1f} GB\")\n            \n            # Warning if memory is high\n            if utilization > 90:\n                print(f\"  ⚠️  WARNING: High memory usage! May OOM soon.\")\n            elif utilization > 75:\n                print(f\"  ⚠️  Memory usage elevated. Monitoring closely.\")\n            \n            print()\n        \n        # Training progress\n        try:\n            from rgym_exp.utils.experiment_manager import get_experiment_status\n            status = get_experiment_status(GDRIVE_BASE_PATH, EXPERIMENT_NAME)\n            \n            if status:\n                current_round = status.get('current_round', 0)\n                progress_pct = (current_round / MAX_ROUNDS) * 100\n                \n                print(f\"Training Progress:\")\n                print(f\"  Round:     {current_round:4d} / {MAX_ROUNDS} ({progress_pct:5.1f}%)\")\n                print(f\"  Stage:     {status.get('current_stage', 0)}\")\n                print(f\"  Active peers: {status.get('active_peers', 0)}\")\n                \n                # Progress bar\n                bar_length = 40\n                filled = int(bar_length * progress_pct / 100)\n                bar = '█' * filled + '░' * (bar_length - filled)\n                print(f\"  [{bar}]\")\n                \n                print()\n                \n                # Recent performance\n                try:\n                    from rgym_exp.utils.experiment_manager import get_experiment_metrics\n                    df = get_experiment_metrics(GDRIVE_BASE_PATH, EXPERIMENT_NAME)\n                    \n                    if not df.empty:\n                        cumulative_reward = df['my_reward'].sum()\n                        recent_reward = df.tail(5)['my_reward'].mean()\n                        \n                        print(f\"Rewards:\")\n                        print(f\"  Cumulative: {cumulative_reward:6.2f}\")\n                        print(f\"  Recent avg: {recent_reward:6.2f} (last 5 rounds)\")\n                        print()\n                except Exception:\n                    pass  # Metrics not available yet\n                    \n        except Exception as e:\n            print(f\"Progress: Unable to load status ({e})\")\n            print()\n        \n        # Instructions\n        print(\"-\"*70)\n        print(\"Press 'Stop' button or Ctrl+C to halt training\")\n        print(f\"Next update in 30 seconds...\")\n        \n        # Exit if all completed\n        if running == 0:\n            print()\n            print(\"=\"*70)\n            print(\"✅ All nodes completed successfully!\")\n            print(\"=\"*70)\n            break\n        \n        time.sleep(30)  # Update every 30 seconds (faster for test mode)\n\nexcept KeyboardInterrupt:\n    print(\"\\n\" + \"=\"*70)\n    print(\"⚠️  Training interrupted by user\")\n    print(\"=\"*70)\n    print(\"\\nTerminating all node processes...\")\n    \n    for i, p in enumerate(processes):\n        if p.poll() is None:\n            print(f\"  Stopping node_{i}... (PID: {p.pid})\")\n            p.terminate()\n    \n    time.sleep(5)\n    \n    # Force kill if still running\n    for i, p in enumerate(processes):\n        if p.poll() is None:\n            print(f\"  Force killing node_{i}... (PID: {p.pid})\")\n            p.kill()\n    \n    print(\"\\n✓ All processes terminated\")\n    print(\"\\n💾 Note: Training state is checkpointed.\")\n    print(\"   Re-run this notebook to resume from last checkpoint.\")"
  },
  {
   "cell_type": "markdown",
   "metadata": {},
   "source": "# === Post-Test Validation ===\nprint(\"\\n\" + \"=\"*60)\nprint(\"🔍 TEST MODE VALIDATION\")\nprint(\"=\"*60)\n\nimport os\nimport json\nfrom pathlib import Path\nimport sys\nsys.path.append('/content/rl-swarm')\n\nfrom rgym_exp.utils.test_results import save_test_results\n\ngdrive_path = '/content/drive/MyDrive/rl-swarm'\nexp_name = EXPERIMENT_NAME\nexp_path = f\"{gdrive_path}/experiments/{exp_name}\"\n\n# Check 1: GDrive state file\nstate_check = False\nstate_file = f\"{exp_path}/state/current_state.json\"\nif os.path.exists(state_file):\n    with open(state_file) as f:\n        state = json.load(f)\n    print(f\"✓ State file exists: Round {state.get('round', '?')}\")\n    if state.get('round') == 3:\n        print(\"  ✓ Reached round 3 as expected\")\n        state_check = True\n    else:\n        print(f\"  ⚠ Expected round 3, got {state.get('round')}\")\nelse:\n    print(\"✗ State file not found\")\n\n# Check 2: Worker submissions\nsubmissions_check = True\nfor round_num in range(3):\n    submissions_dir = f\"{exp_path}/rewards/round_{round_num}/stage_0\"\n    if os.path.exists(submissions_dir):\n        submissions = [f for f in os.listdir(submissions_dir) if f.endswith('.json')]\n        print(f\"✓ Round {round_num}: {len(submissions)} worker submissions\")\n        if len(submissions) == 0:\n            submissions_check = False\n    else:\n        print(f\"✗ Round {round_num}: No submissions directory\")\n        submissions_check = False\n\n# Check 3: Logs\nlogs_check = True\nlog_dirs = [f\"{exp_path}/logs/node_{i}\" for i in range(5)]\nfor i, log_dir in enumerate(log_dirs):\n    if os.path.exists(f\"{log_dir}/stdout.log\"):\n        print(f\"✓ Node {i}: Logs present\")\n    else:\n        print(f\"✗ Node {i}: Logs missing\")\n        logs_check = False\n\n# Save results to GDrive\nsave_test_results(\n    gdrive_path=gdrive_path,\n    experiment_name=exp_name,\n    state_check=state_check,\n    submissions_check=submissions_check,\n    logs_check=logs_check,\n    coordinator_check=True,\n    rollouts_check=None,  # Baseline has no rollout sharing (J=0)\n    num_nodes=5,\n    num_rounds=3,\n    num_train_samples=NUM_TRAIN_SAMPLES,\n    num_transplants=NUM_TRANSPLANT_TREES\n)\n\nprint(\"=\"*60)\nprint(\"✅ TEST MODE VALIDATION COMPLETE\")\nprint(\"=\"*60)"
  },
  {
   "cell_type": "code",
   "execution_count": null,
   "metadata": {},
   "outputs": [],
   "source": [
    "# === Post-Test Validation ===\n",
    "print(\"\\n\" + \"=\"*60)\n",
    "print(\"🔍 TEST MODE VALIDATION\")\n",
    "print(\"=\"*60)\n",
    "\n",
    "import os\n",
    "import json\n",
    "from pathlib import Path\n",
    "\n",
    "gdrive_path = '/content/drive/MyDrive/rl-swarm'\n",
    "exp_name = 'test_mode_validation'\n",
    "exp_path = f\"{gdrive_path}/experiments/{exp_name}\"\n",
    "\n",
    "# Check 1: GDrive state file\n",
    "state_file = f\"{exp_path}/state/current_state.json\"\n",
    "if os.path.exists(state_file):\n",
    "    with open(state_file) as f:\n",
    "        state = json.load(f)\n",
    "    print(f\"✓ State file exists: Round {state.get('round', '?')}\")\n",
    "    if state.get('round') == 3:\n",
    "        print(\"  ✓ Reached round 3 as expected\")\n",
    "    else:\n",
    "        print(f\"  ⚠ Expected round 3, got {state.get('round')}\")\n",
    "else:\n",
    "    print(\"✗ State file not found\")\n",
    "\n",
    "# Check 2: Worker submissions\n",
    "for round_num in range(3):\n",
    "    submissions_dir = f\"{exp_path}/rewards/round_{round_num}/stage_0\"\n",
    "    if os.path.exists(submissions_dir):\n",
    "        submissions = [f for f in os.listdir(submissions_dir) if f.endswith('.json')]\n",
    "        print(f\"✓ Round {round_num}: {len(submissions)} worker submissions\")\n",
    "    else:\n",
    "        print(f\"✗ Round {round_num}: No submissions directory\")\n",
    "\n",
    "# Check 3: Logs\n",
    "log_dirs = [f\"{exp_path}/logs/node_{i}\" for i in range(5)]\n",
    "for i, log_dir in enumerate(log_dirs):\n",
    "    if os.path.exists(f\"{log_dir}/stdout.log\"):\n",
    "        print(f\"✓ Node {i}: Logs present\")\n",
    "    else:\n",
    "        print(f\"✗ Node {i}: Logs missing\")\n",
    "\n",
    "print(\"=\"*60)\n",
    "print(\"✅ TEST MODE VALIDATION COMPLETE\")\n",
    "print(\"=\"*60)"
   ]
  }
 ],
 "metadata": {
  "kernelspec": {
   "display_name": "Python 3",
   "language": "python",
   "name": "python3"
  },
  "language_info": {
   "codemirror_mode": {
    "name": "ipython",
    "version": 3
   },
   "file_extension": ".py",
   "mimetype": "text/x-python",
   "name": "python",
   "nbconvert_exporter": "python",
   "pygments_lexer": "ipython3",
   "version": "3.10.12"
  }
 },
 "nbformat": 4,
 "nbformat_minor": 0
}