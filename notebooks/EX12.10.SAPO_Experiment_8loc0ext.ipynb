{
 "cells": [
  {
   "cell_type": "markdown",
   "metadata": {
    "id": "header"
   },
   "source": [
    "# SAPO Experiment: Baseline (8 Local / 0 External)\n",
    "\n",
    "This notebook replicates the **baseline configuration** from the SAPO paper:\n",
    "- **I = 8**: Generate 8 rollouts locally per round\n",
    "- **J = 0**: No external rollouts from swarm (no experience sharing)\n",
    "- **G = 8**: Generate 8 completions per question\n",
    "- **Rounds = 2000**: Train for 2000 rounds\n",
    "\n",
    "This is the **control experiment** - training without swarm collaboration.\n",
    "\n",
    "**Expected Performance:**\n",
    "- Cumulative reward after 2000 rounds: ~562\n",
    "- This serves as the baseline for comparison with collaborative configs\n",
    "\n",
    "**Before running:**\n",
    "1. Mount your Google Drive\n",
    "2. Run all cells in order\n",
    "3. Training will run for ~24-48 hours (2000 rounds)\n",
    "4. Use `EX12.02.RL_Swarm_Monitoring` to track progress\n",
    "\n",
    "**Paper Reference:** arXiv:2509.08721 - SAPO (Section 5.2, Table 1)"
   ]
  },
  {
   "cell_type": "markdown",
   "metadata": {
    "id": "config"
   },
   "source": [
    "## 1. Configuration"
   ]
  },
  {
   "cell_type": "code",
   "execution_count": null,
   "metadata": {
    "id": "config-cell"
   },
   "outputs": [],
   "source": [
    "# Experiment Configuration\n",
    "EXPERIMENT_NAME = 'sapo_baseline_8loc0ext'  # Unique experiment name\n",
    "NODE_ROLE = 'coordinator'  # Single node acts as coordinator\n",
    "NODE_ID = 'baseline_node_0'  # Unique node identifier\n",
    "\n",
    "# Model Configuration\n",
    "MODEL_NAME = 'Gensyn/Qwen2.5-0.5B-Instruct'  # Same as paper\n",
    "SEED = 42  # For reproducibility\n",
    "\n",
    "# SAPO Configuration (Baseline)\n",
    "NUM_TRAIN_SAMPLES = 8        # I: Local rollouts per round\n",
    "NUM_TRANSPLANT_TREES = 0     # J: External rollouts (NONE for baseline)\n",
    "NUM_GENERATIONS = 8          # G: Completions per question\n",
    "MAX_ROUNDS = 2000            # Train for 2000 rounds (same as paper)\n",
    "\n",
    "# Rollout Sharing (disabled for baseline)\n",
    "ROLLOUT_PUBLISH_FREQUENCY = 'never'  # No sharing needed\n",
    "ROLLOUT_CLEANUP_ENABLED = False\n",
    "ROLLOUT_KEEP_LAST_N_ROUNDS = 10\n",
    "ROLLOUT_ARCHIVE_OLD = False\n",
    "\n",
    "# Optional: HuggingFace Token\n",
    "HUGGINGFACE_TOKEN = None  # Set to your token or keep None\n",
    "\n",
    "\n",
    "print(f\"✓ Experiment: {EXPERIMENT_NAME}\")\n",
    "print(f\"✓ Configuration: I={NUM_TRAIN_SAMPLES}, J={NUM_TRANSPLANT_TREES}, G={NUM_GENERATIONS}\")\n",
    "print(f\"✓ Model: {MODEL_NAME}\")\n",
    "print(f\"✓ Max Rounds: {MAX_ROUNDS}\")\n",
    "print()\n",
    "print(\"⚠️  This is the BASELINE config (no swarm collaboration)\")\n",
    "print(\"   Expected cumulative reward: ~562 after 2000 rounds\")"
   ]
  },
  {
   "cell_type": "markdown",
   "metadata": {
    "id": "mount"
   },
   "source": [
    "## 2. Mount Google Drive"
   ]
  },
  {
   "cell_type": "code",
   "execution_count": null,
   "metadata": {
    "id": "mount-cell"
   },
   "outputs": [],
   "source": [
    "from google.colab import drive\n",
    "import os\n",
    "\n",
    "# Mount Google Drive\n",
    "drive.mount('/content/drive')\n",
    "\n",
    "# Set base path\n",
    "GDRIVE_BASE_PATH = '/content/drive/MyDrive/rl-swarm'\n",
    "os.makedirs(GDRIVE_BASE_PATH, exist_ok=True)\n",
    "\n",
    "print(f\"✓ Google Drive mounted at: {GDRIVE_BASE_PATH}\")"
   ]
  },
  {
   "cell_type": "markdown",
   "metadata": {
    "id": "gpu"
   },
   "source": [
    "## 3. System Setup & Dependencies"
   ]
  },
  {
   "cell_type": "code",
   "execution_count": null,
   "metadata": {
    "id": "gpu-cell"
   },
   "outputs": [],
   "source": [
    "# Check GPU availability\n",
    "import torch\n",
    "\n",
    "if torch.cuda.is_available():\n",
    "    print(f\"✓ GPU available: {torch.cuda.get_device_name(0)}\")\n",
    "    print(f\"  Memory: {torch.cuda.get_device_properties(0).total_memory / 1e9:.2f} GB\")\n",
    "else:\n",
    "    print(\"⚠️  No GPU detected - training will be slow\")\n",
    "    print(\"  Consider: Runtime > Change runtime type > GPU\")"
   ]
  },
  {
   "cell_type": "code",
   "execution_count": null,
   "metadata": {
    "id": "clone-cell"
   },
   "outputs": [],
   "source": [
    "# Clone repository\n",
    "import os\n",
    "\n",
    "# Change to safe directory first\n",
    "%cd /content\n",
    "\n",
    "# Remove existing directory if it exists\n",
    "if os.path.exists('/content/rl-swarm'):\n",
    "    print(\"Removing existing repository...\")\n",
    "    !rm -rf /content/rl-swarm\n",
    "\n",
    "# Clone fresh copy\n",
    "print(\"Cloning repository...\")\n",
    "!git clone https://github.com/Elrashid/rl-swarm.git /content/rl-swarm\n",
    "\n",
    "# Change to repo directory\n",
    "%cd /content/rl-swarm\n",
    "\n",
    "# Verify clone worked\n",
    "if not os.path.exists('requirements.txt'):\n",
    "    print(\"❌ Clone failed! requirements.txt not found\")\n",
    "    raise FileNotFoundError(\"Repository clone failed\")\n",
    "\n",
    "print(\"✓ Repository cloned successfully\")\n",
    "\n",
    "# Install dependencies\n",
    "print(\"Installing dependencies (this may take 3-5 minutes)...\")\n",
    "!pip install -q -r requirements.txt\n",
    "!pip install -q gensyn-genrl==0.1.9\n",
    "\n",
    "print(\"✓ Dependencies installed\")"
   ]
  },
  {
   "cell_type": "markdown",
   "metadata": {
    "id": "init"
   },
   "source": [
    "## 4. Initialize Experiment"
   ]
  },
  {
   "cell_type": "code",
   "execution_count": null,
   "metadata": {
    "id": "init-cell"
   },
   "outputs": [],
   "source": [
    "from rgym_exp.utils.experiment_manager import init_experiment\n",
    "\n",
    "# Initialize experiment structure in Google Drive\n",
    "config_overrides = {\n",
    "    'training.max_round': MAX_ROUNDS,\n",
    "    'training.num_generations': NUM_GENERATIONS,\n",
    "    'training.num_transplant_trees': NUM_TRANSPLANT_TREES,\n",
    "    'training.num_train_samples': NUM_TRAIN_SAMPLES,\n",
    "    'training.seed': SEED,\n",
    "}\n",
    "\n",
    "init_experiment(\n",
    "    gdrive_base_path=GDRIVE_BASE_PATH,\n",
    "    experiment_name=EXPERIMENT_NAME,\n",
    "    config_overrides=config_overrides\n",
    ")\n",
    "\n",
    "print(f\"✓ Experiment initialized: {EXPERIMENT_NAME}\")\n",
    "print(f\"  Path: {GDRIVE_BASE_PATH}/experiments/{EXPERIMENT_NAME}\")\n",
    "print(f\"  Config: I={NUM_TRAIN_SAMPLES}, J={NUM_TRANSPLANT_TREES}, G={NUM_GENERATIONS}\")"
   ]
  },
  {
   "cell_type": "markdown",
   "metadata": {
    "id": "env"
   },
   "source": [
    "## 5. Set Environment Variables"
   ]
  },
  {
   "cell_type": "code",
   "execution_count": null,
   "metadata": {
    "id": "env-cell"
   },
   "outputs": [],
   "source": [
    "import os\n",
    "import uuid\n",
    "\n",
    "# Set environment variables\n",
    "os.environ['GDRIVE_PATH'] = GDRIVE_BASE_PATH\n",
    "os.environ['EXPERIMENT_NAME'] = EXPERIMENT_NAME\n",
    "os.environ['NODE_ROLE'] = NODE_ROLE\n",
    "os.environ['NODE_ID'] = NODE_ID or f\"baseline_{uuid.uuid4().hex[:8]}\"\n",
    "os.environ['MODEL_NAME'] = MODEL_NAME\n",
    "os.environ['SEED'] = str(SEED)\n",
    "\n",
    "# SAPO configuration (NEW)\n",
    "os.environ['NUM_TRAIN_SAMPLES'] = str(NUM_TRAIN_SAMPLES)\n",
    "os.environ['NUM_TRANSPLANT_TREES'] = str(NUM_TRANSPLANT_TREES)\n",
    "os.environ['NUM_GENERATIONS'] = str(NUM_GENERATIONS)\n",
    "os.environ['MAX_ROUNDS'] = str(MAX_ROUNDS)\n",
    "\n",
    "# Rollout configuration\n",
    "os.environ['ROLLOUT_PUBLISH_FREQUENCY'] = ROLLOUT_PUBLISH_FREQUENCY\n",
    "os.environ['ROLLOUT_CLEANUP_ENABLED'] = str(ROLLOUT_CLEANUP_ENABLED)\n",
    "os.environ['ROLLOUT_KEEP_LAST_N_ROUNDS'] = str(ROLLOUT_KEEP_LAST_N_ROUNDS)\n",
    "os.environ['ROLLOUT_ARCHIVE_OLD'] = str(ROLLOUT_ARCHIVE_OLD)\n",
    "\n",
    "if HUGGINGFACE_TOKEN:\n",
    "    os.environ['HUGGINGFACE_ACCESS_TOKEN'] = HUGGINGFACE_TOKEN\n",
    "\n",
    "\n",
    "print(\"✓ Environment variables set\")\n",
    "print(f\"  Node ID: {os.environ['NODE_ID']}\")\n",
    "print(f\"  Config: I={NUM_TRAIN_SAMPLES}, J={NUM_TRANSPLANT_TREES}, G={NUM_GENERATIONS}\")"
   ]
  },
  {
   "cell_type": "markdown",
   "metadata": {
    "id": "train"
   },
   "source": [
    "## 6. Start Training\n",
    "\n",
    "**This cell will run for ~24-48 hours (2000 rounds).**\n",
    "\n",
    "The training will:\n",
    "- Generate 8 local rollouts per round (no external sharing)\n",
    "- Train using GRPO algorithm\n",
    "- Save checkpoints every 10 rounds\n",
    "- Log metrics to Google Drive\n",
    "\n",
    "**Monitor progress:**\n",
    "- Use `EX12.02.RL_Swarm_Monitoring.ipynb` in a separate tab\n",
    "- Check metrics file: `{GDRIVE_BASE_PATH}/experiments/{EXPERIMENT_NAME}/metrics/`\n",
    "\n",
    "**Press stop button to gracefully shutdown.**"
   ]
  },
  {
   "cell_type": "code",
   "execution_count": null,
   "metadata": {
    "id": "train-cell"
   },
   "outputs": [],
   "source": [
    "from rgym_exp.utils.notebook_utils import run_with_live_output\n",
    "import sys\n",
    "\n",
    "print(\"=\"*60)\n",
    "print(f\"Starting SAPO Baseline Experiment\")\n",
    "print(f\"Configuration: I={NUM_TRAIN_SAMPLES}, J={NUM_TRANSPLANT_TREES}, G={NUM_GENERATIONS}\")\n",
    "print(f\"Experiment: {EXPERIMENT_NAME}\")\n",
    "print(f\"Model: {MODEL_NAME}\")\n",
    "print(f\"Max Rounds: {MAX_ROUNDS}\")\n",
    "print(\"=\"*60)\n",
    "print()\n",
    "\n",
    "# Run training with live output\n",
    "exit_code = run_with_live_output([\n",
    "    sys.executable, '-m', 'rgym_exp.runner.swarm_launcher'\n",
    "])\n",
    "\n",
    "if exit_code == -1:\n",
    "    print(\"\\n⚠️  Training interrupted by user\")\n",
    "elif exit_code != 0:\n",
    "    print(f\"\\n❌ Training exited with code: {exit_code}\")\n",
    "else:\n",
    "    print(f\"\\n✅ Training completed successfully\")\n",
    "    print(f\"   Total rounds: {MAX_ROUNDS}\")\n",
    "    print(f\"   Expected cumulative reward: ~562\")"
   ]
  },
  {
   "cell_type": "markdown",
   "metadata": {
    "id": "results"
   },
   "source": [
    "## 7. View Results"
   ]
  },
  {
   "cell_type": "code",
   "execution_count": null,
   "metadata": {
    "id": "results-cell"
   },
   "outputs": [],
   "source": [
    "from rgym_exp.utils.experiment_manager import get_experiment_status, get_experiment_metrics\n",
    "import pandas as pd\n",
    "\n",
    "# Get current status\n",
    "status = get_experiment_status(GDRIVE_BASE_PATH, EXPERIMENT_NAME)\n",
    "\n",
    "print(f\"Experiment: {EXPERIMENT_NAME}\")\n",
    "print(f\"Configuration: Baseline (I=8, J=0, G=8)\")\n",
    "print(f\"Current Round: {status.get('current_round', 0)} / {MAX_ROUNDS}\")\n",
    "print(f\"Current Stage: {status.get('current_stage', 0)}\")\n",
    "print()\n",
    "\n",
    "# Load and display metrics\n",
    "try:\n",
    "    df = get_experiment_metrics(GDRIVE_BASE_PATH, EXPERIMENT_NAME)\n",
    "    if not df.empty:\n",
    "        # Calculate cumulative reward\n",
    "        cumulative_reward = df['my_reward'].sum()\n",
    "        print(f\"Cumulative Reward: {cumulative_reward:.2f}\")\n",
    "        print(f\"Expected (paper): ~562\")\n",
    "        print()\n",
    "        \n",
    "        # Show recent rounds\n",
    "        print(\"Recent rounds (last 10):\")\n",
    "        recent = df.tail(10)\n",
    "        print(recent[['round', 'stage', 'my_reward']].to_string(index=False))\n",
    "    else:\n",
    "        print(\"No metrics available yet\")\n",
    "except Exception as e:\n",
    "    print(f\"Could not load metrics: {e}\")"
   ]
  },
  {
   "cell_type": "code",
   "source": "# === Real-Time Progress Viewer ===\n# Run this cell anytime to check progress from GDrive\n# Useful if you reconnect after notebook disconnect\n\nimport sys\nsys.path.append('/content/rl-swarm')\n\nfrom rgym_exp.utils.progress_tracker import get_experiment_progress\n\nprogress = get_experiment_progress(GDRIVE_BASE_PATH, EXPERIMENT_NAME)\n\nprint(\"=\"*70)\nprint(\"📊 REAL-TIME PROGRESS FROM GDRIVE\")\nprint(\"=\"*70)\nprint(f\"Experiment: {progress.get('experiment')}\")\nprint()\n\nfor node_id, node_data in progress.get('nodes', {}).items():\n    if 'error' in node_data:\n        print(f\"  {node_id}: {node_data['error']}\")\n    else:\n        elapsed_hours = node_data.get('elapsed_seconds', 0) / 3600\n        print(f\"  {node_id}:\")\n        print(f\"    Latest event: {node_data.get('latest_event')}\")\n        print(f\"    Current round: {node_data.get('latest_round')}\")\n        print(f\"    Elapsed time: {elapsed_hours:.1f} hours\")\n        print()\n\nprint(\"=\"*70)\nprint(\"Note: Progress updates every round. Logs flush every 30s to GDrive.\")",
   "metadata": {},
   "execution_count": null,
   "outputs": []
  },
  {
   "cell_type": "markdown",
   "source": "## 7.5. Check Real-Time Progress from GDrive (Optional)\n\n**Reconnected after disconnect?** Run this cell to check training progress:\n- Shows current round for each node\n- Displays elapsed time\n- Works even if your notebook disconnected\n\nProgress is saved to GDrive every round, logs flush every 30 seconds.",
   "metadata": {}
  },
  {
   "cell_type": "markdown",
   "metadata": {
    "id": "resume"
   },
   "source": [
    "## 8. Resume Training (If Disconnected)\n",
    "\n",
    "If your Colab session disconnects:\n",
    "1. Re-run cells 1-5 (keep same EXPERIMENT_NAME and NODE_ID)\n",
    "2. Re-run cell 6 (training cell)\n",
    "3. System will automatically resume from last checkpoint\n",
    "4. Training continues from last saved round"
   ]
  },
  {
   "cell_type": "markdown",
   "metadata": {
    "id": "notes"
   },
   "source": [
    "## Notes\n",
    "\n",
    "### SAPO Baseline Configuration\n",
    "\n",
    "This experiment uses:\n",
    "- **I = 8**: 8 local rollouts generated per round\n",
    "- **J = 0**: No external rollouts (no swarm sharing)\n",
    "- **G = 8**: 8 completions generated per question\n",
    "- **Total rollouts per round**: 8 (all local)\n",
    "\n",
    "This is the **control experiment** for the SAPO paper. It trains a single model without any collaborative experience sharing.\n",
    "\n",
    "### Expected Results\n",
    "\n",
    "From the SAPO paper (Table 1):\n",
    "- **Cumulative reward after 2000 rounds**: ~562\n",
    "- This serves as the baseline for comparison\n",
    "\n",
    "### Comparison with Other Configs\n",
    "\n",
    "The paper shows significant improvements with experience sharing:\n",
    "- **6 local / 2 external**: +52% improvement (cumulative reward ~854)\n",
    "- **4 local / 4 external**: +94% improvement (cumulative reward ~1093) **BEST**\n",
    "- **2 local / 6 external**: +68% improvement (cumulative reward ~946)\n",
    "\n",
    "### Next Steps\n",
    "\n",
    "After this baseline completes:\n",
    "1. Run collaborative experiments: `EX12.11`, `EX12.12`, `EX12.13`\n",
    "2. Compare results using `EX12.20.SAPO_Results_Analysis.ipynb`\n",
    "3. Reproduce paper's findings on swarm collaboration benefits"
   ]
  }
 ],
 "metadata": {
  "colab": {
   "name": "EX12.10.SAPO_Experiment_8loc0ext",
   "provenance": []
  },
  "kernelspec": {
   "display_name": "Python 3",
   "name": "python3"
  }
 },
 "nbformat": 4,
 "nbformat_minor": 0
}