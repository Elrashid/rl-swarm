{
 "cells": [
  {
   "cell_type": "markdown",
   "metadata": {
    "id": "header"
   },
   "source": "# RL Swarm Worker Node (Google Colab)\n\nThis notebook runs a **worker node** that:\n- Participates in training\n- Coordinates with the coordinator node via Google Drive\n- Shares rollouts via Google Drive (no P2P networking)\n- No blockchain, Docker, or peer identity required\n\n**Before running:**\n1. Ensure coordinator node is running (using `colab_coordinator.ipynb`)\n2. Mount your Google Drive (same account as coordinator)\n3. Set **same EXPERIMENT_NAME** as coordinator\n4. Set **unique NODE_ID** for this worker\n5. Run all cells in order\n\n**To run multiple workers:** Use this notebook in separate Colab sessions with different NODE_IDs"
  },
  {
   "cell_type": "markdown",
   "metadata": {
    "id": "config-header"
   },
   "source": [
    "## 1. Configuration"
   ]
  },
  {
   "cell_type": "code",
   "execution_count": null,
   "metadata": {
    "id": "config"
   },
   "outputs": [],
   "source": "# Experiment Configuration\nEXPERIMENT_NAME = 'qwen_0.6b_seed42'  # MUST MATCH COORDINATOR\nNODE_ROLE = 'worker'  # DO NOT CHANGE\nNODE_ID = 'worker_1'  # MUST BE UNIQUE (worker_1, worker_2, worker_3, etc.)\n\n# Model Configuration\nMODEL_NAME = 'Gensyn/Qwen2.5-0.5B-Instruct'  # Should match coordinator\nSEED = 42  # Should match coordinator\n\n# Training Configuration\nMAX_ROUNDS = 1000\nNUM_GENERATIONS = 2\nNUM_TRANSPLANT_TREES = 2\n\n# Rollout Sharing Configuration (should match coordinator)\nROLLOUT_PUBLISH_FREQUENCY = 'stage'  # 'generation', 'stage', or 'round'\nROLLOUT_CLEANUP_ENABLED = False      # Set to True to enable cleanup\nROLLOUT_KEEP_LAST_N_ROUNDS = 10      # Only used if cleanup enabled\nROLLOUT_ARCHIVE_OLD = False          # Archive instead of delete\n\n# Optional: HuggingFace Token (for pushing trained models)\nHUGGINGFACE_TOKEN = None  # Set to your token or keep None\n\n# Optional: Wandb Configuration\nWANDB_API_KEY = None  # Set to your Wandb API key or keep None\nWANDB_PROJECT = 'rl-swarm-colab'\n\nprint(f\"\u00e2\u0153\u201c Experiment: {EXPERIMENT_NAME}\")\nprint(f\"\u00e2\u0153\u201c Node Role: {NODE_ROLE}\")\nprint(f\"\u00e2\u0153\u201c Node ID: {NODE_ID}\")\nprint(f\"\u00e2\u0153\u201c Model: {MODEL_NAME}\")\nprint()\nprint(\"\u00e2\u0691\u00a0 Make sure EXPERIMENT_NAME matches the coordinator!\")"
  },
  {
   "cell_type": "markdown",
   "metadata": {
    "id": "mount-header"
   },
   "source": [
    "## 2. Mount Google Drive"
   ]
  },
  {
   "cell_type": "code",
   "execution_count": null,
   "metadata": {
    "id": "mount-drive"
   },
   "outputs": [],
   "source": [
    "from google.colab import drive\n",
    "import os\n",
    "\n",
    "# Mount Google Drive\n",
    "drive.mount('/content/drive')\n",
    "\n",
    "# Set base path (must be same as coordinator)\n",
    "GDRIVE_BASE_PATH = '/content/drive/MyDrive/rl-swarm'\n",
    "\n",
    "# Check if experiment exists\n",
    "experiment_path = os.path.join(GDRIVE_BASE_PATH, 'experiments', EXPERIMENT_NAME)\n",
    "if not os.path.exists(experiment_path):\n",
    "    print(f\"\u00e2\u200c\u0152 Experiment '{EXPERIMENT_NAME}' not found!\")\n",
    "    print(f\"   Expected at: {experiment_path}\")\n",
    "    print()\n",
    "    print(\"Make sure:\")\n",
    "    print(\"  1. Coordinator is running\")\n",
    "    print(\"  2. EXPERIMENT_NAME matches the coordinator\")\n",
    "    print(\"  3. You're using the same Google Drive account\")\n",
    "    raise FileNotFoundError(f\"Experiment not found: {EXPERIMENT_NAME}\")\n",
    "else:\n",
    "    print(f\"\u00e2\u0153\u201c Found experiment: {EXPERIMENT_NAME}\")\n",
    "    print(f\"  Path: {experiment_path}\")"
   ]
  },
  {
   "cell_type": "markdown",
   "metadata": {
    "id": "system-header"
   },
   "source": [
    "## 3. System Setup & Dependencies"
   ]
  },
  {
   "cell_type": "code",
   "execution_count": null,
   "metadata": {
    "id": "check-gpu"
   },
   "outputs": [],
   "source": [
    "# Check GPU availability\n",
    "import torch\n",
    "\n",
    "if torch.cuda.is_available():\n",
    "    print(f\"\u00e2\u0153\u201c GPU available: {torch.cuda.get_device_name(0)}\")\n",
    "    print(f\"  Memory: {torch.cuda.get_device_properties(0).total_memory / 1e9:.2f} GB\")\n",
    "else:\n",
    "    print(\"\u00e2\u0691\u00a0 No GPU detected - training will be slow\")\n",
    "    print(\"  Consider: Runtime > Change runtime type > GPU\")"
   ]
  },
  {
   "cell_type": "code",
   "execution_count": null,
   "metadata": {
    "id": "install-deps"
   },
   "outputs": [],
   "source": "# Clone repository\nimport os\nif not os.path.exists('/content/rl-swarm'):\n    !git clone https://github.com/Elrashid/rl-swarm.git /content/rl-swarm\n    print(\"\u00e2\u0153\u201c Repository cloned\")\nelse:\n    print(\"\u00e2\u0153\u201c Repository already exists\")\n\n%cd /content/rl-swarm\n\n# Install dependencies\nprint(\"Installing dependencies (this may take 3-5 minutes)...\")\n!pip install -q -r requirements.txt\n!pip install -q gensyn-genrl==0.1.9\n\nprint(\"\u00e2\u0153\u201c Dependencies installed\")"
  },
  {
   "cell_type": "code",
   "execution_count": null,
   "metadata": {
    "id": "setup-wandb"
   },
   "outputs": [],
   "source": [
    "if WANDB_API_KEY:\n",
    "    import wandb\n",
    "    wandb.login(key=WANDB_API_KEY)\n",
    "    print(\"\u00e2\u0153\u201c Wandb configured\")\n",
    "else:\n",
    "    print(\"\u00e2\u201e\u00b9 Wandb disabled (WANDB_API_KEY not set)\")"
   ]
  },
  {
   "cell_type": "markdown",
   "metadata": {
    "id": "env-header"
   },
   "source": [
    "## 6. Set Environment Variables"
   ]
  },
  {
   "cell_type": "code",
   "execution_count": null,
   "metadata": {
    "id": "set-env"
   },
   "outputs": [],
   "source": [
    "import os\n",
    "\n",
    "# Set environment variables\n",
    "os.environ['GDRIVE_PATH'] = GDRIVE_BASE_PATH\n",
    "os.environ['EXPERIMENT_NAME'] = EXPERIMENT_NAME\n",
    "os.environ['NODE_ROLE'] = NODE_ROLE\n",
    "os.environ['NODE_ID'] = NODE_ID\n",
    "os.environ['MODEL_NAME'] = MODEL_NAME\n",
    "os.environ['SEED'] = str(SEED)\n",
    "\n",
    "if HUGGINGFACE_TOKEN:\n",
    "    os.environ['HUGGINGFACE_ACCESS_TOKEN'] = HUGGINGFACE_TOKEN\n",
    "\n",
    "if WANDB_API_KEY:\n",
    "    os.environ['WANDB_API_KEY'] = WANDB_API_KEY\n",
    "    os.environ['WANDB_PROJECT'] = WANDB_PROJECT\n",
    "\n",
    "print(\"\u00e2\u0153\u201c Environment variables set\")"
   ]
  },
  {
   "cell_type": "markdown",
   "metadata": {
    "id": "discovery-header"
   },
   "source": [
    "## 7. Check Peer Discovery\n",
    "\n",
    "Verify that we can discover the coordinator and other workers."
   ]
  },
  {
   "cell_type": "code",
   "execution_count": null,
   "metadata": {
    "id": "check-discovery"
   },
   "outputs": [],
   "source": "import os\nimport uuid\n\n# Set environment variables\nos.environ['GDRIVE_PATH'] = GDRIVE_BASE_PATH\nos.environ['EXPERIMENT_NAME'] = EXPERIMENT_NAME\nos.environ['NODE_ROLE'] = NODE_ROLE\nos.environ['NODE_ID'] = NODE_ID or f\"worker_{uuid.uuid4().hex[:8]}\"\nos.environ['MODEL_NAME'] = MODEL_NAME\nos.environ['SEED'] = str(SEED)\n\n# Rollout configuration\nos.environ['ROLLOUT_PUBLISH_FREQUENCY'] = ROLLOUT_PUBLISH_FREQUENCY\nos.environ['ROLLOUT_CLEANUP_ENABLED'] = str(ROLLOUT_CLEANUP_ENABLED)\nos.environ['ROLLOUT_KEEP_LAST_N_ROUNDS'] = str(ROLLOUT_KEEP_LAST_N_ROUNDS)\nos.environ['ROLLOUT_ARCHIVE_OLD'] = str(ROLLOUT_ARCHIVE_OLD)\n\nif HUGGINGFACE_TOKEN:\n    os.environ['HUGGINGFACE_ACCESS_TOKEN'] = HUGGINGFACE_TOKEN\n\nif WANDB_API_KEY:\n    os.environ['WANDB_API_KEY'] = WANDB_API_KEY\n    os.environ['WANDB_PROJECT'] = WANDB_PROJECT\n\nprint(\"\u00e2\u0153\u201c Environment variables set\")\nprint(f\"  Node ID: {os.environ['NODE_ID']}\")"
  },
  {
   "cell_type": "code",
   "execution_count": null,
   "metadata": {
    "id": "start-training"
   },
   "outputs": [],
   "source": [
    "import sys\n",
    "import subprocess\n",
    "\n",
    "%cd /content/rl-swarm\n",
    "\n",
    "print(\"=\"*60)\n",
    "print(f\"Starting Worker Node: {NODE_ID}\")\n",
    "print(f\"Experiment: {EXPERIMENT_NAME}\")\n",
    "print(f\"Model: {MODEL_NAME}\")\n",
    "print(\"=\"*60)\n",
    "print()\n",
    "\n",
    "# Run training\n",
    "try:\n",
    "    subprocess.run([\n",
    "        sys.executable, '-m', 'rgym_exp.runner.swarm_launcher',\n",
    "        '--config-name', 'colab-gdrive'\n",
    "    ])\n",
    "    \n",
    "except KeyboardInterrupt:\n",
    "    print(\"\\n\" + \"=\"*60)\n",
    "    print(\"Training interrupted by user\")\n",
    "    print(\"=\"*60)\n",
    "except Exception as e:\n",
    "    print(f\"\\n\u00e2\u200c\u0152 Error: {e}\")\n",
    "    import traceback\n",
    "    traceback.print_exc()"
   ]
  },
  {
   "cell_type": "code",
   "execution_count": null,
   "metadata": {
    "id": "monitor-progress"
   },
   "outputs": [],
   "source": [
    "from rgym_exp.utils.experiment_manager import get_experiment_status, get_experiment_metrics\n",
    "import pandas as pd\n",
    "\n",
    "# Get current status\n",
    "status = get_experiment_status(GDRIVE_BASE_PATH, EXPERIMENT_NAME)\n",
    "print(f\"Current Round: {status['current_round']}\")\n",
    "print(f\"Current Stage: {status['current_stage']}\")\n",
    "print(f\"Active Peers: {status['num_active_peers']}\")\n",
    "print(f\"Total Submissions: {status['total_submissions']}\")\n",
    "print()\n",
    "\n",
    "# Load and display recent metrics for this worker\n",
    "try:\n",
    "    df = get_experiment_metrics(GDRIVE_BASE_PATH, EXPERIMENT_NAME)\n",
    "    if not df.empty:\n",
    "        print(f\"Recent metrics for {NODE_ID} (last 10 rounds):\")\n",
    "        recent = df[df['node_id'] == NODE_ID].tail(10)\n",
    "        if not recent.empty:\n",
    "            print(recent[['round', 'stage', 'my_reward']].to_string(index=False))\n",
    "        else:\n",
    "            print(f\"No metrics for {NODE_ID} yet\")\n",
    "    else:\n",
    "        print(\"No metrics available yet\")\n",
    "except Exception as e:\n",
    "    print(f\"Could not load metrics: {e}\")"
   ]
  },
  {
   "cell_type": "markdown",
   "metadata": {
    "id": "resume-header"
   },
   "source": [
    "## 10. Resume Training (If Disconnected)\n",
    "\n",
    "If your Colab session disconnects:\n",
    "1. Re-run all cells above (keep same EXPERIMENT_NAME and NODE_ID)\n",
    "2. The system will automatically resume from the last checkpoint\n",
    "3. Training continues from the last saved round\n",
    "4. Peer discovery will reconnect to coordinator automatically"
   ]
  },
  {
   "cell_type": "markdown",
   "metadata": {
    "id": "troubleshoot-header"
   },
   "source": [
    "## Troubleshooting\n",
    "\n",
    "### Worker can't find experiment\n",
    "- Verify EXPERIMENT_NAME matches coordinator exactly\n",
    "- Check that coordinator has finished cell 7 (Initialize Experiment)\n",
    "- Ensure using same Google Drive account\n",
    "\n",
    "### No peers discovered\n",
    "- Coordinator must be running and past cell 8\n",
    "- Wait 1-2 minutes for peer discovery to propagate\n",
    "\n",
    "### Out of memory errors\n",
    "- Use smaller model (e.g., Qwen2.5-0.5B instead of 1.5B)\n",
    "- Reduce NUM_GENERATIONS to 1\n",
    "- Enable GPU: Runtime > Change runtime type > GPU\n",
    "\n",
    "### Training too slow\n",
    "- Check GPU is enabled and available\n",
    "- Reduce model size\n",
    "- Check coordinator round duration isn't too short"
   ]
  }
 ],
 "metadata": {
  "accelerator": "GPU",
  "colab": {
   "name": "RL Swarm Worker",
   "provenance": [],
   "gpuType": "T4"
  },
  "kernelspec": {
   "display_name": "Python 3",
   "name": "python3"
  },
  "language_info": {
   "name": "python"
  }
 },
 "nbformat": 4,
 "nbformat_minor": 0
}