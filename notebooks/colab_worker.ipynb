{
 "cells": [
  {
   "cell_type": "markdown",
   "metadata": {
    "id": "header"
   },
   "source": [
    "# RL Swarm Worker Node (Google Colab)\n",
    "\n",
    "This notebook runs a **worker node** that:\n",
    "- Participates in training\n",
    "- Coordinates with the coordinator node via Google Drive\n",
    "- Discovers peers automatically\n",
    "- No blockchain or Docker required\n",
    "\n",
    "**Before running:**\n",
    "1. Ensure coordinator node is running (using `colab_coordinator.ipynb`)\n",
    "2. Mount your Google Drive (same account as coordinator)\n",
    "3. Set **same EXPERIMENT_NAME** as coordinator\n",
    "4. Set **unique NODE_ID** for this worker\n",
    "5. Run all cells in order\n",
    "\n",
    "**To run multiple workers:** Use this notebook in separate Colab sessions with different NODE_IDs"
   ]
  },
  {
   "cell_type": "markdown",
   "metadata": {
    "id": "config-header"
   },
   "source": [
    "## 1. Configuration"
   ]
  },
  {
   "cell_type": "code",
   "execution_count": null,
   "metadata": {
    "id": "config"
   },
   "outputs": [],
   "source": [
    "# Experiment Configuration\n",
    "EXPERIMENT_NAME = 'qwen_0.6b_seed42'  # MUST MATCH COORDINATOR\n",
    "NODE_ROLE = 'worker'  # DO NOT CHANGE\n",
    "NODE_ID = 'worker_1'  # MUST BE UNIQUE (worker_1, worker_2, worker_3, etc.)\n",
    "\n",
    "# Model Configuration\n",
    "MODEL_NAME = 'Gensyn/Qwen2.5-0.5B-Instruct'  # Should match coordinator\n",
    "SEED = 42  # Should match coordinator\n",
    "\n",
    "# Training Configuration\n",
    "MAX_ROUNDS = 1000\n",
    "NUM_GENERATIONS = 2\n",
    "NUM_TRANSPLANT_TREES = 2\n",
    "\n",
    "# Optional: HuggingFace Token (for pushing trained models)\n",
    "HUGGINGFACE_TOKEN = None  # Set to your token or keep None\n",
    "\n",
    "# Optional: Wandb Configuration\n",
    "WANDB_API_KEY = None  # Set to your Wandb API key or keep None\n",
    "WANDB_PROJECT = 'rl-swarm-colab'\n",
    "\n",
    "print(f\"✓ Experiment: {EXPERIMENT_NAME}\")\n",
    "print(f\"✓ Node Role: {NODE_ROLE}\")\n",
    "print(f\"✓ Node ID: {NODE_ID}\")\n",
    "print(f\"✓ Model: {MODEL_NAME}\")\n",
    "print()\n",
    "print(\"⚠ Make sure EXPERIMENT_NAME matches the coordinator!\")"
   ]
  },
  {
   "cell_type": "markdown",
   "metadata": {
    "id": "mount-header"
   },
   "source": [
    "## 2. Mount Google Drive"
   ]
  },
  {
   "cell_type": "code",
   "execution_count": null,
   "metadata": {
    "id": "mount-drive"
   },
   "outputs": [],
   "source": [
    "from google.colab import drive\n",
    "import os\n",
    "\n",
    "# Mount Google Drive\n",
    "drive.mount('/content/drive')\n",
    "\n",
    "# Set base path (must be same as coordinator)\n",
    "GDRIVE_BASE_PATH = '/content/drive/MyDrive/rl-swarm'\n",
    "\n",
    "# Check if experiment exists\n",
    "experiment_path = os.path.join(GDRIVE_BASE_PATH, 'experiments', EXPERIMENT_NAME)\n",
    "if not os.path.exists(experiment_path):\n",
    "    print(f\"❌ Experiment '{EXPERIMENT_NAME}' not found!\")\n",
    "    print(f\"   Expected at: {experiment_path}\")\n",
    "    print()\n",
    "    print(\"Make sure:\")\n",
    "    print(\"  1. Coordinator is running\")\n",
    "    print(\"  2. EXPERIMENT_NAME matches the coordinator\")\n",
    "    print(\"  3. You're using the same Google Drive account\")\n",
    "    raise FileNotFoundError(f\"Experiment not found: {EXPERIMENT_NAME}\")\n",
    "else:\n",
    "    print(f\"✓ Found experiment: {EXPERIMENT_NAME}\")\n",
    "    print(f\"  Path: {experiment_path}\")"
   ]
  },
  {
   "cell_type": "markdown",
   "metadata": {
    "id": "system-header"
   },
   "source": [
    "## 3. System Setup & Dependencies"
   ]
  },
  {
   "cell_type": "code",
   "execution_count": null,
   "metadata": {
    "id": "check-gpu"
   },
   "outputs": [],
   "source": [
    "# Check GPU availability\n",
    "import torch\n",
    "\n",
    "if torch.cuda.is_available():\n",
    "    print(f\"✓ GPU available: {torch.cuda.get_device_name(0)}\")\n",
    "    print(f\"  Memory: {torch.cuda.get_device_properties(0).total_memory / 1e9:.2f} GB\")\n",
    "else:\n",
    "    print(\"⚠ No GPU detected - training will be slow\")\n",
    "    print(\"  Consider: Runtime > Change runtime type > GPU\")"
   ]
  },
  {
   "cell_type": "code",
   "execution_count": null,
   "metadata": {
    "id": "install-deps"
   },
   "outputs": [],
   "source": "# Clone repository\nimport os\nif not os.path.exists('/content/rl-swarm'):\n    !git clone https://github.com/Elrashid/rl-swarm.git /content/rl-swarm\n    print(\"✓ Repository cloned\")\nelse:\n    print(\"✓ Repository already exists\")\n\n%cd /content/rl-swarm\n\n# Install dependencies\nprint(\"Installing dependencies (this may take 3-5 minutes)...\")\n!pip install -q -r requirements.txt\n!pip install -q gensyn-genrl==0.1.9\n\nprint(\"✓ Dependencies installed\")"
  },
  {
   "cell_type": "markdown",
   "metadata": {
    "id": "identity-header"
   },
   "source": [
    "## 4. Generate Peer Identity"
   ]
  },
  {
   "cell_type": "code",
   "execution_count": null,
   "metadata": {
    "id": "generate-identity"
   },
   "outputs": [],
   "source": [
    "import os\n",
    "from cryptography.hazmat.primitives.asymmetric import rsa\n",
    "from cryptography.hazmat.primitives import serialization\n",
    "from cryptography.hazmat.backends import default_backend\n",
    "\n",
    "# Identity file stored in Google Drive (persists across sessions)\n",
    "IDENTITY_PATH = os.path.join(GDRIVE_BASE_PATH, f'identity_{NODE_ID}.pem')\n",
    "\n",
    "if not os.path.exists(IDENTITY_PATH):\n",
    "    print(\"Generating new peer identity...\")\n",
    "    key = rsa.generate_private_key(\n",
    "        public_exponent=65537,\n",
    "        key_size=2048,\n",
    "        backend=default_backend()\n",
    "    )\n",
    "    pem = key.private_bytes(\n",
    "        encoding=serialization.Encoding.PEM,\n",
    "        format=serialization.PrivateFormat.TraditionalOpenSSL,\n",
    "        encryption_algorithm=serialization.NoEncryption()\n",
    "    )\n",
    "    with open(IDENTITY_PATH, 'wb') as f:\n",
    "        f.write(pem)\n",
    "    print(f\"✓ New identity created: {IDENTITY_PATH}\")\n",
    "else:\n",
    "    print(f\"✓ Using existing identity: {IDENTITY_PATH}\")\n",
    "\n",
    "# Copy to working directory\n",
    "!cp \"{IDENTITY_PATH}\" /content/rl-swarm/swarm.pem\n",
    "print(\"✓ Identity ready\")"
   ]
  },
  {
   "cell_type": "markdown",
   "metadata": {
    "id": "wandb-header"
   },
   "source": [
    "## 5. Setup Wandb (Optional)"
   ]
  },
  {
   "cell_type": "code",
   "execution_count": null,
   "metadata": {
    "id": "setup-wandb"
   },
   "outputs": [],
   "source": [
    "if WANDB_API_KEY:\n",
    "    import wandb\n",
    "    wandb.login(key=WANDB_API_KEY)\n",
    "    print(\"✓ Wandb configured\")\n",
    "else:\n",
    "    print(\"ℹ Wandb disabled (WANDB_API_KEY not set)\")"
   ]
  },
  {
   "cell_type": "markdown",
   "metadata": {
    "id": "env-header"
   },
   "source": [
    "## 6. Set Environment Variables"
   ]
  },
  {
   "cell_type": "code",
   "execution_count": null,
   "metadata": {
    "id": "set-env"
   },
   "outputs": [],
   "source": [
    "import os\n",
    "\n",
    "# Set environment variables\n",
    "os.environ['GDRIVE_PATH'] = GDRIVE_BASE_PATH\n",
    "os.environ['EXPERIMENT_NAME'] = EXPERIMENT_NAME\n",
    "os.environ['NODE_ROLE'] = NODE_ROLE\n",
    "os.environ['NODE_ID'] = NODE_ID\n",
    "os.environ['MODEL_NAME'] = MODEL_NAME\n",
    "os.environ['SEED'] = str(SEED)\n",
    "os.environ['IDENTITY_PATH'] = '/content/rl-swarm/swarm.pem'\n",
    "\n",
    "if HUGGINGFACE_TOKEN:\n",
    "    os.environ['HUGGINGFACE_ACCESS_TOKEN'] = HUGGINGFACE_TOKEN\n",
    "\n",
    "if WANDB_API_KEY:\n",
    "    os.environ['WANDB_API_KEY'] = WANDB_API_KEY\n",
    "    os.environ['WANDB_PROJECT'] = WANDB_PROJECT\n",
    "\n",
    "print(\"✓ Environment variables set\")"
   ]
  },
  {
   "cell_type": "markdown",
   "metadata": {
    "id": "discovery-header"
   },
   "source": [
    "## 7. Check Peer Discovery\n",
    "\n",
    "Verify that we can discover the coordinator and other workers."
   ]
  },
  {
   "cell_type": "code",
   "execution_count": null,
   "metadata": {
    "id": "check-discovery"
   },
   "outputs": [],
   "source": [
    "from rgym_exp.src.gdrive_discovery import GDrivePeerDiscovery\n",
    "import os\n",
    "\n",
    "discovery_path = os.path.join(GDRIVE_BASE_PATH, 'discovery')\n",
    "discovery = GDrivePeerDiscovery(discovery_path)\n",
    "\n",
    "# Discover existing peers\n",
    "peers = discovery.discover_peers(max_peers=10)\n",
    "\n",
    "if peers:\n",
    "    print(f\"✓ Discovered {len(peers)} peer(s):\")\n",
    "    for peer in peers:\n",
    "        print(f\"  - {peer}\")\n",
    "else:\n",
    "    print(\"⚠ No peers discovered yet\")\n",
    "    print(\"  Make sure the coordinator is running\")\n",
    "    print(\"  Peer discovery will continue automatically during training\")"
   ]
  },
  {
   "cell_type": "markdown",
   "metadata": {
    "id": "train-header"
   },
   "source": [
    "## 8. Start Training\n",
    "\n",
    "**This cell will run until interrupted or max rounds reached.**\n",
    "\n",
    "The worker will:\n",
    "- Connect to discovered peers\n",
    "- Sync with coordinator's current round\n",
    "- Train the model and submit rewards\n",
    "- Save checkpoints every 10 rounds\n",
    "\n",
    "**Monitor logs below. Press the stop button to gracefully shutdown.**"
   ]
  },
  {
   "cell_type": "code",
   "execution_count": null,
   "metadata": {
    "id": "start-training"
   },
   "outputs": [],
   "source": [
    "import sys\n",
    "import subprocess\n",
    "\n",
    "%cd /content/rl-swarm\n",
    "\n",
    "print(\"=\"*60)\n",
    "print(f\"Starting Worker Node: {NODE_ID}\")\n",
    "print(f\"Experiment: {EXPERIMENT_NAME}\")\n",
    "print(f\"Model: {MODEL_NAME}\")\n",
    "print(\"=\"*60)\n",
    "print()\n",
    "\n",
    "# Run training\n",
    "try:\n",
    "    subprocess.run([\n",
    "        sys.executable, '-m', 'rgym_exp.runner.swarm_launcher',\n",
    "        '--config-name', 'colab-gdrive'\n",
    "    ])\n",
    "    \n",
    "except KeyboardInterrupt:\n",
    "    print(\"\\n\" + \"=\"*60)\n",
    "    print(\"Training interrupted by user\")\n",
    "    print(\"=\"*60)\n",
    "except Exception as e:\n",
    "    print(f\"\\n❌ Error: {e}\")\n",
    "    import traceback\n",
    "    traceback.print_exc()"
   ]
  },
  {
   "cell_type": "markdown",
   "metadata": {
    "id": "monitor-header"
   },
   "source": [
    "## 9. Monitor Progress (Optional)\n",
    "\n",
    "Run this cell in a separate window to monitor progress while training continues."
   ]
  },
  {
   "cell_type": "code",
   "execution_count": null,
   "metadata": {
    "id": "monitor-progress"
   },
   "outputs": [],
   "source": [
    "from rgym_exp.utils.experiment_manager import get_experiment_status, get_experiment_metrics\n",
    "import pandas as pd\n",
    "\n",
    "# Get current status\n",
    "status = get_experiment_status(GDRIVE_BASE_PATH, EXPERIMENT_NAME)\n",
    "print(f\"Current Round: {status['current_round']}\")\n",
    "print(f\"Current Stage: {status['current_stage']}\")\n",
    "print(f\"Active Peers: {status['num_active_peers']}\")\n",
    "print(f\"Total Submissions: {status['total_submissions']}\")\n",
    "print()\n",
    "\n",
    "# Load and display recent metrics for this worker\n",
    "try:\n",
    "    df = get_experiment_metrics(GDRIVE_BASE_PATH, EXPERIMENT_NAME)\n",
    "    if not df.empty:\n",
    "        print(f\"Recent metrics for {NODE_ID} (last 10 rounds):\")\n",
    "        recent = df[df['node_id'] == NODE_ID].tail(10)\n",
    "        if not recent.empty:\n",
    "            print(recent[['round', 'stage', 'my_reward']].to_string(index=False))\n",
    "        else:\n",
    "            print(f\"No metrics for {NODE_ID} yet\")\n",
    "    else:\n",
    "        print(\"No metrics available yet\")\n",
    "except Exception as e:\n",
    "    print(f\"Could not load metrics: {e}\")"
   ]
  },
  {
   "cell_type": "markdown",
   "metadata": {
    "id": "resume-header"
   },
   "source": [
    "## 10. Resume Training (If Disconnected)\n",
    "\n",
    "If your Colab session disconnects:\n",
    "1. Re-run all cells above (keep same EXPERIMENT_NAME and NODE_ID)\n",
    "2. The system will automatically resume from the last checkpoint\n",
    "3. Training continues from the last saved round\n",
    "4. Peer discovery will reconnect to coordinator automatically"
   ]
  },
  {
   "cell_type": "markdown",
   "metadata": {
    "id": "troubleshoot-header"
   },
   "source": [
    "## Troubleshooting\n",
    "\n",
    "### Worker can't find experiment\n",
    "- Verify EXPERIMENT_NAME matches coordinator exactly\n",
    "- Check that coordinator has finished cell 7 (Initialize Experiment)\n",
    "- Ensure using same Google Drive account\n",
    "\n",
    "### No peers discovered\n",
    "- Coordinator must be running and past cell 8\n",
    "- Wait 1-2 minutes for peer discovery to propagate\n",
    "- Check `{GDRIVE_BASE_PATH}/discovery/` folder exists\n",
    "\n",
    "### Out of memory errors\n",
    "- Use smaller model (e.g., Qwen2.5-0.5B instead of 1.5B)\n",
    "- Reduce NUM_GENERATIONS to 1\n",
    "- Enable GPU: Runtime > Change runtime type > GPU\n",
    "\n",
    "### Training too slow\n",
    "- Check GPU is enabled and available\n",
    "- Reduce model size\n",
    "- Check coordinator round duration isn't too short"
   ]
  }
 ],
 "metadata": {
  "accelerator": "GPU",
  "colab": {
   "name": "RL Swarm Worker",
   "provenance": [],
   "gpuType": "T4"
  },
  "kernelspec": {
   "display_name": "Python 3",
   "name": "python3"
  },
  "language_info": {
   "name": "python"
  }
 },
 "nbformat": 4,
 "nbformat_minor": 0
}